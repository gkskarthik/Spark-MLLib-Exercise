{
 "cells": [
  {
   "cell_type": "markdown",
   "metadata": {},
   "source": [
    "## Overview\n",
    "\n",
    "Regression Problem:\n",
    "\n",
    "Algorithms Used:\n",
    "\n",
    "- Linear Regression with Spark ML. Reference: https://www.datacamp.com/community/tutorials/apache-spark-tutorial-machine-learning\n",
    "- Linear Regression with MLLib. Reference: https://spark.apache.org/docs/1.6.1/mllib-linear-methods.html#regression\n",
    "- RandomForest Regression with MLLib. Reference: https://spark.apache.org/docs/latest/mllib-ensembles.html#regression"
   ]
  },
  {
   "cell_type": "markdown",
   "metadata": {},
   "source": [
    "## Loading the file into dataframe"
   ]
  },
  {
   "cell_type": "code",
   "execution_count": 3,
   "metadata": {},
   "outputs": [
    {
     "data": {
      "text/html": [
       "<style scoped>\n",
       "  .table-result-container {\n",
       "    max-height: 300px;\n",
       "    overflow: auto;\n",
       "  }\n",
       "  table, th, td {\n",
       "    border: 1px solid black;\n",
       "    border-collapse: collapse;\n",
       "  }\n",
       "  th, td {\n",
       "    padding: 5px;\n",
       "  }\n",
       "  th {\n",
       "    text-align: left;\n",
       "  }\n",
       "</style><div class='table-result-container'><table class='table-result'><thead style='background-color: white'><tr><th>housing_median_age</th><th>total_rooms</th><th>total_bedrooms</th><th>population</th><th>households</th><th>median_income</th><th>median_house_value</th></tr></thead><tbody><tr><td>15.0</td><td>5612.0</td><td>1283.0</td><td>1015.0</td><td>472.0</td><td>1.4936</td><td>66900.0</td></tr><tr><td>19.0</td><td>7650.0</td><td>1901.0</td><td>1129.0</td><td>463.0</td><td>1.82</td><td>80100.0</td></tr><tr><td>17.0</td><td>720.0</td><td>174.0</td><td>333.0</td><td>117.0</td><td>1.6509</td><td>85700.0</td></tr><tr><td>14.0</td><td>1501.0</td><td>337.0</td><td>515.0</td><td>226.0</td><td>3.1917</td><td>73400.0</td></tr><tr><td>20.0</td><td>1454.0</td><td>326.0</td><td>624.0</td><td>262.0</td><td>1.925</td><td>65500.0</td></tr><tr><td>29.0</td><td>1387.0</td><td>236.0</td><td>671.0</td><td>239.0</td><td>3.3438</td><td>74000.0</td></tr><tr><td>25.0</td><td>2907.0</td><td>680.0</td><td>1841.0</td><td>633.0</td><td>2.6768</td><td>82400.0</td></tr><tr><td>41.0</td><td>812.0</td><td>168.0</td><td>375.0</td><td>158.0</td><td>1.7083</td><td>48500.0</td></tr><tr><td>34.0</td><td>4789.0</td><td>1175.0</td><td>3134.0</td><td>1056.0</td><td>2.1782</td><td>58400.0</td></tr><tr><td>46.0</td><td>1497.0</td><td>309.0</td><td>787.0</td><td>271.0</td><td>2.1908</td><td>48100.0</td></tr><tr><td>16.0</td><td>3741.0</td><td>801.0</td><td>2434.0</td><td>824.0</td><td>2.6797</td><td>86500.0</td></tr><tr><td>21.0</td><td>1988.0</td><td>483.0</td><td>1182.0</td><td>437.0</td><td>1.625</td><td>62000.0</td></tr><tr><td>48.0</td><td>1291.0</td><td>248.0</td><td>580.0</td><td>211.0</td><td>2.1571</td><td>48600.0</td></tr><tr><td>31.0</td><td>2478.0</td><td>464.0</td><td>1346.0</td><td>479.0</td><td>3.212</td><td>70400.0</td></tr><tr><td>15.0</td><td>1448.0</td><td>378.0</td><td>949.0</td><td>300.0</td><td>0.8585</td><td>45000.0</td></tr><tr><td>17.0</td><td>2556.0</td><td>587.0</td><td>1005.0</td><td>401.0</td><td>1.6991</td><td>69100.0</td></tr><tr><td>28.0</td><td>1678.0</td><td>322.0</td><td>666.0</td><td>256.0</td><td>2.9653</td><td>94900.0</td></tr><tr><td>21.0</td><td>44.0</td><td>33.0</td><td>64.0</td><td>27.0</td><td>0.8571</td><td>25000.0</td></tr><tr><td>17.0</td><td>1388.0</td><td>386.0</td><td>775.0</td><td>320.0</td><td>1.2049</td><td>44000.0</td></tr><tr><td>17.0</td><td>97.0</td><td>24.0</td><td>29.0</td><td>15.0</td><td>1.2656</td><td>27500.0</td></tr><tr><td>20.0</td><td>1491.0</td><td>360.0</td><td>1135.0</td><td>303.0</td><td>1.6395</td><td>44400.0</td></tr><tr><td>24.0</td><td>796.0</td><td>243.0</td><td>227.0</td><td>139.0</td><td>0.8964</td><td>59200.0</td></tr><tr><td>20.0</td><td>350.0</td><td>95.0</td><td>119.0</td><td>58.0</td><td>1.625</td><td>50000.0</td></tr><tr><td>15.0</td><td>644.0</td><td>129.0</td><td>137.0</td><td>52.0</td><td>3.2097</td><td>71300.0</td></tr><tr><td>18.0</td><td>1706.0</td><td>397.0</td><td>3424.0</td><td>283.0</td><td>1.625</td><td>53500.0</td></tr><tr><td>34.0</td><td>591.0</td><td>139.0</td><td>327.0</td><td>89.0</td><td>3.6528</td><td>100000.0</td></tr><tr><td>30.0</td><td>1602.0</td><td>322.0</td><td>1130.0</td><td>335.0</td><td>3.5735</td><td>71100.0</td></tr><tr><td>14.0</td><td>1276.0</td><td>270.0</td><td>867.0</td><td>261.0</td><td>1.9375</td><td>80900.0</td></tr><tr><td>32.0</td><td>741.0</td><td>191.0</td><td>623.0</td><td>169.0</td><td>1.7604</td><td>68600.0</td></tr><tr><td>23.0</td><td>1458.0</td><td>294.0</td><td>866.0</td><td>275.0</td><td>2.3594</td><td>74300.0</td></tr><tr><td>38.0</td><td>1892.0</td><td>394.0</td><td>1175.0</td><td>374.0</td><td>1.9939</td><td>65800.0</td></tr><tr><td>35.0</td><td>1263.0</td><td>262.0</td><td>950.0</td><td>241.0</td><td>1.8958</td><td>67500.0</td></tr><tr><td>16.0</td><td>1136.0</td><td>196.0</td><td>481.0</td><td>185.0</td><td>6.2558</td><td>146300.0</td></tr><tr><td>19.0</td><td>1087.0</td><td>171.0</td><td>649.0</td><td>173.0</td><td>3.3182</td><td>113800.0</td></tr><tr><td>19.0</td><td>583.0</td><td>113.0</td><td>531.0</td><td>134.0</td><td>1.6838</td><td>95800.0</td></tr><tr><td>29.0</td><td>1141.0</td><td>220.0</td><td>684.0</td><td>194.0</td><td>3.4038</td><td>107800.0</td></tr><tr><td>33.0</td><td>1234.0</td><td>373.0</td><td>777.0</td><td>298.0</td><td>1.0</td><td>40000.0</td></tr><tr><td>21.0</td><td>1260.0</td><td>246.0</td><td>805.0</td><td>239.0</td><td>2.6172</td><td>88500.0</td></tr><tr><td>15.0</td><td>3414.0</td><td>666.0</td><td>2097.0</td><td>622.0</td><td>2.3319</td><td>91200.0</td></tr><tr><td>19.0</td><td>541.0</td><td>104.0</td><td>457.0</td><td>106.0</td><td>3.3583</td><td>102800.0</td></tr><tr><td>17.0</td><td>1960.0</td><td>389.0</td><td>1691.0</td><td>356.0</td><td>1.899</td><td>64000.0</td></tr><tr><td>29.0</td><td>1523.0</td><td>440.0</td><td>1302.0</td><td>393.0</td><td>1.1311</td><td>84700.0</td></tr><tr><td>25.0</td><td>2322.0</td><td>573.0</td><td>2185.0</td><td>602.0</td><td>1.375</td><td>70100.0</td></tr><tr><td>13.0</td><td>330.0</td><td>72.0</td><td>822.0</td><td>64.0</td><td>3.4107</td><td>142500.0</td></tr><tr><td>18.0</td><td>3631.0</td><td>913.0</td><td>3565.0</td><td>924.0</td><td>1.5931</td><td>88400.0</td></tr><tr><td>35.0</td><td>2159.0</td><td>492.0</td><td>1694.0</td><td>475.0</td><td>2.1776</td><td>75500.0</td></tr><tr><td>32.0</td><td>1995.0</td><td>523.0</td><td>1069.0</td><td>410.0</td><td>1.6552</td><td>43300.0</td></tr><tr><td>21.0</td><td>1024.0</td><td>218.0</td><td>890.0</td><td>232.0</td><td>2.101</td><td>46700.0</td></tr><tr><td>20.0</td><td>1402.0</td><td>287.0</td><td>1104.0</td><td>317.0</td><td>1.9088</td><td>63700.0</td></tr><tr><td>11.0</td><td>2872.0</td><td>610.0</td><td>2644.0</td><td>581.0</td><td>2.625</td><td>72700.0</td></tr><tr><td>30.0</td><td>540.0</td><td>136.0</td><td>122.0</td><td>63.0</td><td>1.3333</td><td>42500.0</td></tr><tr><td>18.0</td><td>1109.0</td><td>283.0</td><td>1006.0</td><td>253.0</td><td>2.163</td><td>53400.0</td></tr><tr><td>38.0</td><td>1327.0</td><td>262.0</td><td>784.0</td><td>231.0</td><td>1.8793</td><td>60800.0</td></tr><tr><td>32.0</td><td>1615.0</td><td>382.0</td><td>1307.0</td><td>345.0</td><td>1.4583</td><td>58600.0</td></tr><tr><td>24.0</td><td>1617.0</td><td>366.0</td><td>1416.0</td><td>401.0</td><td>1.975</td><td>66400.0</td></tr><tr><td>10.0</td><td>1879.0</td><td>387.0</td><td>1376.0</td><td>337.0</td><td>1.9911</td><td>67500.0</td></tr><tr><td>18.0</td><td>1715.0</td><td>337.0</td><td>1166.0</td><td>333.0</td><td>2.2417</td><td>79200.0</td></tr><tr><td>17.0</td><td>1190.0</td><td>275.0</td><td>1113.0</td><td>258.0</td><td>2.3571</td><td>63100.0</td></tr><tr><td>6.0</td><td>2804.0</td><td>581.0</td><td>2807.0</td><td>594.0</td><td>2.0625</td><td>67700.0</td></tr><tr><td>12.0</td><td>807.0</td><td>199.0</td><td>246.0</td><td>102.0</td><td>2.5391</td><td>40000.0</td></tr><tr><td>25.0</td><td>2578.0</td><td>634.0</td><td>2082.0</td><td>565.0</td><td>1.7159</td><td>62200.0</td></tr><tr><td>35.0</td><td>1583.0</td><td>340.0</td><td>933.0</td><td>318.0</td><td>2.4063</td><td>70700.0</td></tr><tr><td>34.0</td><td>2231.0</td><td>545.0</td><td>1568.0</td><td>510.0</td><td>1.5217</td><td>60300.0</td></tr><tr><td>14.0</td><td>1527.0</td><td>325.0</td><td>1453.0</td><td>332.0</td><td>1.735</td><td>61200.0</td></tr><tr><td>23.0</td><td>1459.0</td><td>373.0</td><td>1148.0</td><td>388.0</td><td>1.5372</td><td>69400.0</td></tr><tr><td>17.0</td><td>1697.0</td><td>268.0</td><td>911.0</td><td>254.0</td><td>4.3523</td><td>96000.0</td></tr><tr><td>27.0</td><td>1513.0</td><td>395.0</td><td>1121.0</td><td>381.0</td><td>1.9464</td><td>60600.0</td></tr><tr><td>41.0</td><td>2429.0</td><td>454.0</td><td>1188.0</td><td>430.0</td><td>3.0091</td><td>70800.0</td></tr><tr><td>23.0</td><td>1712.0</td><td>403.0</td><td>1370.0</td><td>377.0</td><td>1.275</td><td>60400.0</td></tr><tr><td>33.0</td><td>2266.0</td><td>365.0</td><td>952.0</td><td>360.0</td><td>5.4349</td><td>143000.0</td></tr><tr><td>24.0</td><td>2565.0</td><td>530.0</td><td>1447.0</td><td>473.0</td><td>3.2593</td><td>80800.0</td></tr><tr><td>34.0</td><td>1540.0</td><td>316.0</td><td>1013.0</td><td>274.0</td><td>2.5664</td><td>67500.0</td></tr><tr><td>23.0</td><td>666.0</td><td>142.0</td><td>580.0</td><td>160.0</td><td>2.1136</td><td>61000.0</td></tr><tr><td>23.0</td><td>1004.0</td><td>221.0</td><td>697.0</td><td>201.0</td><td>1.6351</td><td>59600.0</td></tr><tr><td>22.0</td><td>565.0</td><td>162.0</td><td>692.0</td><td>141.0</td><td>1.2083</td><td>53600.0</td></tr><tr><td>5.0</td><td>2652.0</td><td>606.0</td><td>1767.0</td><td>536.0</td><td>2.8025</td><td>84300.0</td></tr><tr><td>21.0</td><td>2164.0</td><td>480.0</td><td>1164.0</td><td>421.0</td><td>3.8177</td><td>107200.0</td></tr><tr><td>28.0</td><td>1672.0</td><td>416.0</td><td>1335.0</td><td>397.0</td><td>1.5987</td><td>59400.0</td></tr><tr><td>25.0</td><td>1311.0</td><td>375.0</td><td>1193.0</td><td>351.0</td><td>2.1979</td><td>63900.0</td></tr><tr><td>15.0</td><td>1171.0</td><td>328.0</td><td>1024.0</td><td>298.0</td><td>1.3882</td><td>69400.0</td></tr><tr><td>20.0</td><td>2372.0</td><td>835.0</td><td>2283.0</td><td>767.0</td><td>1.1707</td><td>62500.0</td></tr><tr><td>18.0</td><td>1178.0</td><td>438.0</td><td>1377.0</td><td>429.0</td><td>1.3373</td><td>58300.0</td></tr><tr><td>46.0</td><td>2511.0</td><td>490.0</td><td>1583.0</td><td>469.0</td><td>3.0603</td><td>70800.0</td></tr><tr><td>35.0</td><td>1185.0</td><td>202.0</td><td>615.0</td><td>191.0</td><td>4.6154</td><td>86200.0</td></tr><tr><td>29.0</td><td>1568.0</td><td>283.0</td><td>848.0</td><td>245.0</td><td>3.1597</td><td>76200.0</td></tr><tr><td>15.0</td><td>1278.0</td><td>217.0</td><td>653.0</td><td>185.0</td><td>4.4821</td><td>140300.0</td></tr><tr><td>33.0</td><td>1365.0</td><td>269.0</td><td>825.0</td><td>250.0</td><td>3.2396</td><td>62300.0</td></tr><tr><td>17.0</td><td>1039.0</td><td>256.0</td><td>728.0</td><td>246.0</td><td>1.7411</td><td>63500.0</td></tr><tr><td>29.0</td><td>1207.0</td><td>301.0</td><td>804.0</td><td>288.0</td><td>1.9531</td><td>61100.0</td></tr><tr><td>31.0</td><td>1494.0</td><td>289.0</td><td>959.0</td><td>284.0</td><td>3.5282</td><td>67500.0</td></tr><tr><td>16.0</td><td>2276.0</td><td>594.0</td><td>1184.0</td><td>513.0</td><td>1.875</td><td>93800.0</td></tr><tr><td>34.0</td><td>1152.0</td><td>208.0</td><td>621.0</td><td>208.0</td><td>3.6042</td><td>73600.0</td></tr><tr><td>20.0</td><td>1534.0</td><td>235.0</td><td>871.0</td><td>222.0</td><td>6.2715</td><td>97200.0</td></tr><tr><td>15.0</td><td>1413.0</td><td>279.0</td><td>803.0</td><td>277.0</td><td>4.3021</td><td>87500.0</td></tr><tr><td>21.0</td><td>1161.0</td><td>282.0</td><td>724.0</td><td>186.0</td><td>3.1827</td><td>71700.0</td></tr><tr><td>5.0</td><td>805.0</td><td>143.0</td><td>458.0</td><td>143.0</td><td>4.475</td><td>96300.0</td></tr><tr><td>10.0</td><td>1088.0</td><td>203.0</td><td>533.0</td><td>201.0</td><td>3.6597</td><td>87500.0</td></tr><tr><td>14.0</td><td>1687.0</td><td>507.0</td><td>762.0</td><td>451.0</td><td>1.6635</td><td>64400.0</td></tr><tr><td>5.0</td><td>2494.0</td><td>414.0</td><td>1416.0</td><td>421.0</td><td>5.7843</td><td>110100.0</td></tr><tr><td>20.0</td><td>1608.0</td><td>274.0</td><td>862.0</td><td>248.0</td><td>4.875</td><td>90800.0</td></tr><tr><td>8.0</td><td>2183.0</td><td>307.0</td><td>1000.0</td><td>287.0</td><td>6.3814</td><td>159900.0</td></tr><tr><td>30.0</td><td>935.0</td><td>177.0</td><td>649.0</td><td>148.0</td><td>2.5769</td><td>94400.0</td></tr><tr><td>37.0</td><td>709.0</td><td>187.0</td><td>390.0</td><td>142.0</td><td>2.4511</td><td>72500.0</td></tr><tr><td>3.0</td><td>1629.0</td><td>317.0</td><td>1005.0</td><td>312.0</td><td>4.1293</td><td>83200.0</td></tr><tr><td>20.0</td><td>1121.0</td><td>244.0</td><td>766.0</td><td>230.0</td><td>2.2969</td><td>62000.0</td></tr><tr><td>17.0</td><td>1009.0</td><td>231.0</td><td>745.0</td><td>217.0</td><td>2.0463</td><td>61200.0</td></tr><tr><td>23.0</td><td>1228.0</td><td>235.0</td><td>569.0</td><td>235.0</td><td>3.1667</td><td>125000.0</td></tr><tr><td>18.0</td><td>1564.0</td><td>340.0</td><td>1161.0</td><td>343.0</td><td>2.1792</td><td>55200.0</td></tr><tr><td>16.0</td><td>348.0</td><td>99.0</td><td>123.0</td><td>54.0</td><td>2.0938</td><td>87500.0</td></tr><tr><td>19.0</td><td>749.0</td><td>238.0</td><td>476.0</td><td>169.0</td><td>1.7727</td><td>50000.0</td></tr><tr><td>23.0</td><td>1586.0</td><td>448.0</td><td>338.0</td><td>182.0</td><td>1.2132</td><td>30000.0</td></tr><tr><td>27.0</td><td>452.0</td><td>103.0</td><td>258.0</td><td>61.0</td><td>2.9</td><td>87500.0</td></tr><tr><td>44.0</td><td>472.0</td><td>81.0</td><td>206.0</td><td>57.0</td><td>2.2083</td><td>93800.0</td></tr><tr><td>2.0</td><td>96.0</td><td>18.0</td><td>30.0</td><td>16.0</td><td>5.3374</td><td>47500.0</td></tr><tr><td>20.0</td><td>1660.0</td><td>379.0</td><td>637.0</td><td>250.0</td><td>2.0347</td><td>68900.0</td></tr><tr><td>34.0</td><td>3868.0</td><td>1257.0</td><td>890.0</td><td>423.0</td><td>1.3571</td><td>41000.0</td></tr><tr><td>15.0</td><td>208.0</td><td>49.0</td><td>51.0</td><td>20.0</td><td>4.0208</td><td>32500.0</td></tr><tr><td>19.0</td><td>1210.0</td><td>248.0</td><td>329.0</td><td>155.0</td><td>1.7857</td><td>62800.0</td></tr><tr><td>15.0</td><td>459.0</td><td>95.0</td><td>160.0</td><td>73.0</td><td>0.922</td><td>67500.0</td></tr><tr><td>18.0</td><td>1321.0</td><td>272.0</td><td>754.0</td><td>226.0</td><td>3.4028</td><td>67500.0</td></tr><tr><td>5.0</td><td>186.0</td><td>43.0</td><td>41.0</td><td>21.0</td><td>2.7</td><td>58800.0</td></tr><tr><td>12.0</td><td>99.0</td><td>25.0</td><td>37.0</td><td>17.0</td><td>1.8958</td><td>53800.0</td></tr><tr><td>27.0</td><td>322.0</td><td>81.0</td><td>112.0</td><td>57.0</td><td>1.125</td><td>54400.0</td></tr><tr><td>8.0</td><td>240.0</td><td>46.0</td><td>63.0</td><td>24.0</td><td>1.4688</td><td>53800.0</td></tr><tr><td>15.0</td><td>1945.0</td><td>536.0</td><td>515.0</td><td>273.0</td><td>2.0109</td><td>54300.0</td></tr><tr><td>16.0</td><td>245.0</td><td>57.0</td><td>81.0</td><td>33.0</td><td>1.2639</td><td>51300.0</td></tr><tr><td>26.0</td><td>1134.0</td><td>280.0</td><td>329.0</td><td>158.0</td><td>1.4338</td><td>43900.0</td></tr><tr><td>24.0</td><td>2985.0</td><td>958.0</td><td>4042.0</td><td>905.0</td><td>1.7344</td><td>66400.0</td></tr><tr><td>20.0</td><td>1996.0</td><td>515.0</td><td>659.0</td><td>295.0</td><td>2.8684</td><td>62800.0</td></tr><tr><td>8.0</td><td>569.0</td><td>97.0</td><td>312.0</td><td>96.0</td><td>4.3021</td><td>94500.0</td></tr><tr><td>19.0</td><td>301.0</td><td>65.0</td><td>150.0</td><td>56.0</td><td>3.125</td><td>65600.0</td></tr><tr><td>17.0</td><td>290.0</td><td>94.0</td><td>135.0</td><td>57.0</td><td>1.7292</td><td>81300.0</td></tr><tr><td>29.0</td><td>1202.0</td><td>290.0</td><td>383.0</td><td>156.0</td><td>1.3371</td><td>66900.0</td></tr><tr><td>15.0</td><td>10377.0</td><td>2331.0</td><td>4507.0</td><td>1807.0</td><td>2.2466</td><td>66800.0</td></tr><tr><td>16.0</td><td>381.0</td><td>89.0</td><td>182.0</td><td>75.0</td><td>2.425</td><td>76100.0</td></tr><tr><td>13.0</td><td>9444.0</td><td>1997.0</td><td>4166.0</td><td>1482.0</td><td>2.6111</td><td>65600.0</td></tr><tr><td>20.0</td><td>1273.0</td><td>354.0</td><td>1548.0</td><td>355.0</td><td>2.0871</td><td>84700.0</td></tr><tr><td>17.0</td><td>2421.0</td><td>820.0</td><td>2971.0</td><td>685.0</td><td>1.654</td><td>100000.0</td></tr><tr><td>32.0</td><td>3298.0</td><td>1228.0</td><td>763.0</td><td>360.0</td><td>1.875</td><td>47800.0</td></tr><tr><td>18.0</td><td>3312.0</td><td>705.0</td><td>1251.0</td><td>512.0</td><td>3.0139</td><td>82600.0</td></tr><tr><td>22.0</td><td>197.0</td><td>54.0</td><td>331.0</td><td>70.0</td><td>2.9286</td><td>112500.0</td></tr><tr><td>10.0</td><td>1711.0</td><td>499.0</td><td>1896.0</td><td>443.0</td><td>1.6557</td><td>65400.0</td></tr><tr><td>12.0</td><td>1230.0</td><td>277.0</td><td>1334.0</td><td>260.0</td><td>2.2679</td><td>61400.0</td></tr><tr><td>18.0</td><td>3585.0</td><td>800.0</td><td>3873.0</td><td>788.0</td><td>2.5714</td><td>65900.0</td></tr><tr><td>22.0</td><td>639.0</td><td>203.0</td><td>664.0</td><td>153.0</td><td>1.9306</td><td>47500.0</td></tr><tr><td>13.0</td><td>1713.0</td><td>512.0</td><td>1978.0</td><td>442.0</td><td>2.1287</td><td>58600.0</td></tr><tr><td>17.0</td><td>89.0</td><td>19.0</td><td>79.0</td><td>21.0</td><td>2.375</td><td>155000.0</td></tr><tr><td>25.0</td><td>2888.0</td><td>654.0</td><td>2940.0</td><td>660.0</td><td>2.2141</td><td>66700.0</td></tr><tr><td>16.0</td><td>1859.0</td><td>476.0</td><td>1994.0</td><td>477.0</td><td>1.7297</td><td>67500.0</td></tr><tr><td>26.0</td><td>2399.0</td><td>625.0</td><td>2654.0</td><td>535.0</td><td>2.2989</td><td>60600.0</td></tr><tr><td>23.0</td><td>1152.0</td><td>273.0</td><td>1077.0</td><td>235.0</td><td>2.5</td><td>96300.0</td></tr><tr><td>28.0</td><td>1608.0</td><td>409.0</td><td>567.0</td><td>254.0</td><td>1.4648</td><td>61800.0</td></tr><tr><td>22.0</td><td>894.0</td><td>192.0</td><td>830.0</td><td>202.0</td><td>3.0673</td><td>68200.0</td></tr><tr><td>28.0</td><td>2488.0</td><td>714.0</td><td>2891.0</td><td>676.0</td><td>2.3169</td><td>68900.0</td></tr><tr><td>19.0</td><td>3114.0</td><td>787.0</td><td>3157.0</td><td>772.0</td><td>1.7083</td><td>82200.0</td></tr><tr><td>34.0</td><td>584.0</td><td>176.0</td><td>625.0</td><td>166.0</td><td>1.5809</td><td>100000.0</td></tr><tr><td>19.0</td><td>1596.0</td><td>295.0</td><td>1201.0</td><td>282.0</td><td>3.8846</td><td>100900.0</td></tr><tr><td>14.0</td><td>1372.0</td><td>386.0</td><td>436.0</td><td>213.0</td><td>1.1471</td><td>32900.0</td></tr><tr><td>23.0</td><td>1175.0</td><td>468.0</td><td>355.0</td><td>151.0</td><td>2.2083</td><td>42500.0</td></tr><tr><td>26.0</td><td>4120.0</td><td>858.0</td><td>2918.0</td><td>815.0</td><td>3.3107</td><td>69400.0</td></tr><tr><td>38.0</td><td>1695.0</td><td>352.0</td><td>1279.0</td><td>305.0</td><td>2.1217</td><td>68500.0</td></tr><tr><td>28.0</td><td>826.0</td><td>258.0</td><td>979.0</td><td>245.0</td><td>1.7172</td><td>58800.0</td></tr><tr><td>9.0</td><td>3861.0</td><td>849.0</td><td>825.0</td><td>401.0</td><td>3.2833</td><td>124700.0</td></tr><tr><td>29.0</td><td>1133.0</td><td>221.0</td><td>918.0</td><td>239.0</td><td>2.8648</td><td>72100.0</td></tr><tr><td>32.0</td><td>4981.0</td><td>1326.0</td><td>3779.0</td><td>1186.0</td><td>1.7805</td><td>76900.0</td></tr><tr><td>17.0</td><td>4874.0</td><td>1349.0</td><td>5032.0</td><td>1243.0</td><td>2.444</td><td>90000.0</td></tr><tr><td>14.0</td><td>2774.0</td><td>566.0</td><td>1530.0</td><td>505.0</td><td>3.0682</td><td>104100.0</td></tr><tr><td>25.0</td><td>5236.0</td><td>1039.0</td><td>2725.0</td><td>935.0</td><td>3.775</td><td>93400.0</td></tr><tr><td>10.0</td><td>9033.0</td><td>2224.0</td><td>5525.0</td><td>1845.0</td><td>2.7598</td><td>95000.0</td></tr><tr><td>24.0</td><td>880.0</td><td>187.0</td><td>507.0</td><td>169.0</td><td>3.4583</td><td>67500.0</td></tr><tr><td>33.0</td><td>278.0</td><td>91.0</td><td>375.0</td><td>81.0</td><td>2.025</td><td>50000.0</td></tr><tr><td>5.0</td><td>1664.0</td><td>444.0</td><td>907.0</td><td>374.0</td><td>2.7667</td><td>92900.0</td></tr><tr><td>3.0</td><td>7437.0</td><td>1222.0</td><td>574.0</td><td>302.0</td><td>10.2948</td><td>382400.0</td></tr><tr><td>17.0</td><td>934.0</td><td>284.0</td><td>452.0</td><td>184.0</td><td>1.9875</td><td>83700.0</td></tr><tr><td>37.0</td><td>452.0</td><td>109.0</td><td>184.0</td><td>59.0</td><td>3.7292</td><td>65800.0</td></tr><tr><td>6.0</td><td>12991.0</td><td>2555.0</td><td>4571.0</td><td>1926.0</td><td>4.7195</td><td>199300.0</td></tr><tr><td>5.0</td><td>3584.0</td><td>760.0</td><td>1097.0</td><td>470.0</td><td>3.1771</td><td>167400.0</td></tr><tr><td>10.0</td><td>2387.0</td><td>481.0</td><td>863.0</td><td>304.0</td><td>2.8882</td><td>137500.0</td></tr><tr><td>20.0</td><td>2352.0</td><td>556.0</td><td>1217.0</td><td>481.0</td><td>1.6063</td><td>55400.0</td></tr><tr><td>15.0</td><td>2214.0</td><td>410.0</td><td>1152.0</td><td>350.0</td><td>2.9187</td><td>93400.0</td></tr><tr><td>11.0</td><td>4686.0</td><td>851.0</td><td>2466.0</td><td>731.0</td><td>3.3333</td><td>91800.0</td></tr><tr><td>7.0</td><td>4497.0</td><td>831.0</td><td>2248.0</td><td>713.0</td><td>3.6354</td><td>98000.0</td></tr><tr><td>18.0</td><td>1880.0</td><td>487.0</td><td>994.0</td><td>425.0</td><td>1.69</td><td>54200.0</td></tr><tr><td>10.0</td><td>4256.0</td><td>861.0</td><td>1403.0</td><td>686.0</td><td>2.6618</td><td>81000.0</td></tr><tr><td>19.0</td><td>1791.0</td><td>367.0</td><td>327.0</td><td>185.0</td><td>3.3625</td><td>100000.0</td></tr><tr><td>13.0</td><td>1808.0</td><td>411.0</td><td>735.0</td><td>320.0</td><td>1.5489</td><td>57400.0</td></tr><tr><td>5.0</td><td>19107.0</td><td>3923.0</td><td>2880.0</td><td>1376.0</td><td>4.036</td><td>158500.0</td></tr><tr><td>11.0</td><td>12327.0</td><td>2000.0</td><td>2450.0</td><td>1139.0</td><td>7.4382</td><td>353100.0</td></tr><tr><td>24.0</td><td>2746.0</td><td>514.0</td><td>731.0</td><td>295.0</td><td>3.3214</td><td>176400.0</td></tr><tr><td>9.0</td><td>1969.0</td><td>406.0</td><td>805.0</td><td>349.0</td><td>1.5491</td><td>62300.0</td></tr><tr><td>16.0</td><td>2595.0</td><td>606.0</td><td>1046.0</td><td>367.0</td><td>1.7137</td><td>110700.0</td></tr><tr><td>11.0</td><td>12557.0</td><td>3098.0</td><td>2453.0</td><td>1232.0</td><td>1.7844</td><td>78500.0</td></tr><tr><td>17.0</td><td>8626.0</td><td>1859.0</td><td>3497.0</td><td>1337.0</td><td>3.312</td><td>121300.0</td></tr><tr><td>7.0</td><td>8806.0</td><td>1542.0</td><td>858.0</td><td>448.0</td><td>7.8005</td><td>318100.0</td></tr><tr><td>12.0</td><td>4890.0</td><td>1152.0</td><td>1289.0</td><td>570.0</td><td>2.5795</td><td>98700.0</td></tr><tr><td>14.0</td><td>4985.0</td><td>1238.0</td><td>2517.0</td><td>954.0</td><td>2.0674</td><td>65000.0</td></tr><tr><td>6.0</td><td>2104.0</td><td>348.0</td><td>841.0</td><td>320.0</td><td>4.1458</td><td>116300.0</td></tr><tr><td>7.0</td><td>17579.0</td><td>3479.0</td><td>3581.0</td><td>1820.0</td><td>4.084</td><td>194500.0</td></tr><tr><td>10.0</td><td>11836.0</td><td>2405.0</td><td>3811.0</td><td>1570.0</td><td>4.0079</td><td>134500.0</td></tr><tr><td>17.0</td><td>12509.0</td><td>2460.0</td><td>2737.0</td><td>1423.0</td><td>4.5556</td><td>258100.0</td></tr><tr><td>15.0</td><td>5583.0</td><td>1149.0</td><td>2709.0</td><td>964.0</td><td>1.9779</td><td>73300.0</td></tr><tr><td>15.0</td><td>11115.0</td><td>2257.0</td><td>4122.0</td><td>1653.0</td><td>2.7219</td><td>74400.0</td></tr><tr><td>19.0</td><td>7646.0</td><td>1618.0</td><td>2496.0</td><td>1075.0</td><td>3.5569</td><td>128000.0</td></tr><tr><td>10.0</td><td>11659.0</td><td>2007.0</td><td>2186.0</td><td>1083.0</td><td>6.9833</td><td>238800.0</td></tr><tr><td>16.0</td><td>5648.0</td><td>1089.0</td><td>2524.0</td><td>1008.0</td><td>2.6739</td><td>78000.0</td></tr><tr><td>9.0</td><td>4855.0</td><td>872.0</td><td>2098.0</td><td>765.0</td><td>3.2723</td><td>97800.0</td></tr><tr><td>8.0</td><td>3059.0</td><td>500.0</td><td>612.0</td><td>208.0</td><td>6.8729</td><td>259200.0</td></tr><tr><td>25.0</td><td>2475.0</td><td>476.0</td><td>910.0</td><td>387.0</td><td>3.3639</td><td>168800.0</td></tr><tr><td>17.0</td><td>4289.0</td><td>893.0</td><td>958.0</td><td>440.0</td><td>2.4659</td><td>177800.0</td></tr><tr><td>12.0</td><td>7095.0</td><td>1260.0</td><td>1179.0</td><td>570.0</td><td>4.9444</td><td>285000.0</td></tr><tr><td>14.0</td><td>16921.0</td><td>2837.0</td><td>2524.0</td><td>1262.0</td><td>7.6281</td><td>341700.0</td></tr><tr><td>15.0</td><td>3895.0</td><td>782.0</td><td>900.0</td><td>529.0</td><td>2.2208</td><td>138300.0</td></tr><tr><td>26.0</td><td>186.0</td><td>48.0</td><td>102.0</td><td>39.0</td><td>2.5625</td><td>103100.0</td></tr><tr><td>17.0</td><td>6683.0</td><td>1296.0</td><td>2677.0</td><td>1227.0</td><td>2.4828</td><td>84000.0</td></tr><tr><td>8.0</td><td>6710.0</td><td>1343.0</td><td>2069.0</td><td>781.0</td><td>3.5223</td><td>115100.0</td></tr><tr><td>24.0</td><td>2596.0</td><td>438.0</td><td>473.0</td><td>237.0</td><td>3.7727</td><td>500001.0</td></tr><tr><td>19.0</td><td>1867.0</td><td>361.0</td><td>758.0</td><td>321.0</td><td>2.8929</td><td>98100.0</td></tr><tr><td>18.0</td><td>5584.0</td><td>1303.0</td><td>2250.0</td><td>1158.0</td><td>1.5823</td><td>72400.0</td></tr><tr><td>17.0</td><td>5293.0</td><td>1266.0</td><td>1201.0</td><td>599.0</td><td>1.6849</td><td>88400.0</td></tr><tr><td>18.0</td><td>4872.0</td><td>1110.0</td><td>955.0</td><td>656.0</td><td>2.2439</td><td>97500.0</td></tr><tr><td>5.0</td><td>846.0</td><td>249.0</td><td>117.0</td><td>67.0</td><td>7.9885</td><td>403300.0</td></tr><tr><td>9.0</td><td>5534.0</td><td>1206.0</td><td>2283.0</td><td>1008.0</td><td>3.6161</td><td>99100.0</td></tr><tr><td>16.0</td><td>5228.0</td><td>992.0</td><td>1177.0</td><td>639.0</td><td>3.0859</td><td>134600.0</td></tr><tr><td>22.0</td><td>2680.0</td><td>643.0</td><td>1644.0</td><td>516.0</td><td>2.1949</td><td>127100.0</td></tr><tr><td>6.0</td><td>4863.0</td><td>920.0</td><td>3010.0</td><td>828.0</td><td>3.9508</td><td>104200.0</td></tr><tr><td>33.0</td><td>2565.0</td><td>745.0</td><td>2301.0</td><td>638.0</td><td>2.5477</td><td>83000.0</td></tr><tr><td>22.0</td><td>5473.0</td><td>1234.0</td><td>2581.0</td><td>1098.0</td><td>1.9375</td><td>65300.0</td></tr><tr><td>18.0</td><td>2233.0</td><td>471.0</td><td>919.0</td><td>388.0</td><td>3.2578</td><td>85200.0</td></tr><tr><td>3.0</td><td>9169.0</td><td>1512.0</td><td>3838.0</td><td>1270.0</td><td>4.3111</td><td>142500.0</td></tr><tr><td>7.0</td><td>10105.0</td><td>2481.0</td><td>6274.0</td><td>2095.0</td><td>2.4497</td><td>90900.0</td></tr><tr><td>27.0</td><td>1781.0</td><td>441.0</td><td>759.0</td><td>340.0</td><td>3.3162</td><td>113600.0</td></tr><tr><td>10.0</td><td>3254.0</td><td>913.0</td><td>923.0</td><td>486.0</td><td>1.8</td><td>81000.0</td></tr><tr><td>14.0</td><td>9425.0</td><td>2020.0</td><td>1711.0</td><td>1000.0</td><td>2.6298</td><td>145200.0</td></tr><tr><td>8.0</td><td>1294.0</td><td>272.0</td><td>457.0</td><td>199.0</td><td>2.9167</td><td>115300.0</td></tr><tr><td>27.0</td><td>3316.0</td><td>636.0</td><td>2362.0</td><td>532.0</td><td>2.9569</td><td>65900.0</td></tr><tr><td>13.0</td><td>8789.0</td><td>1875.0</td><td>1274.0</td><td>688.0</td><td>3.7396</td><td>148900.0</td></tr><tr><td>5.0</td><td>4332.0</td><td>868.0</td><td>1420.0</td><td>567.0</td><td>4.0417</td><td>146400.0</td></tr><tr><td>10.0</td><td>7249.0</td><td>1882.0</td><td>4274.0</td><td>1621.0</td><td>1.6983</td><td>66600.0</td></tr><tr><td>16.0</td><td>343.0</td><td>85.0</td><td>29.0</td><td>14.0</td><td>2.1042</td><td>87500.0</td></tr><tr><td>26.0</td><td>5032.0</td><td>1229.0</td><td>3086.0</td><td>1183.0</td><td>2.5399</td><td>94800.0</td></tr><tr><td>20.0</td><td>4810.0</td><td>1074.0</td><td>1304.0</td><td>740.0</td><td>2.25</td><td>248100.0</td></tr><tr><td>15.0</td><td>3149.0</td><td>713.0</td><td>1281.0</td><td>486.0</td><td>2.0</td><td>64700.0</td></tr><tr><td>21.0</td><td>8502.0</td><td>2634.0</td><td>2330.0</td><td>991.0</td><td>1.3811</td><td>51300.0</td></tr><tr><td>16.0</td><td>4913.0</td><td>1395.0</td><td>2518.0</td><td>1132.0</td><td>1.4665</td><td>61100.0</td></tr><tr><td>12.0</td><td>3369.0</td><td>780.0</td><td>1315.0</td><td>584.0</td><td>1.7388</td><td>66000.0</td></tr><tr><td>21.0</td><td>1284.0</td><td>306.0</td><td>537.0</td><td>233.0</td><td>1.95</td><td>61000.0</td></tr><tr><td>13.0</td><td>3921.0</td><td>754.0</td><td>1902.0</td><td>665.0</td><td>3.3616</td><td>89600.0</td></tr><tr><td>13.0</td><td>7559.0</td><td>1444.0</td><td>3189.0</td><td>1105.0</td><td>3.4886</td><td>112500.0</td></tr><tr><td>17.0</td><td>4465.0</td><td>859.0</td><td>853.0</td><td>445.0</td><td>3.6875</td><td>130400.0</td></tr><tr><td>21.0</td><td>10227.0</td><td>2315.0</td><td>3623.0</td><td>1734.0</td><td>2.5212</td><td>145200.0</td></tr><tr><td>18.0</td><td>4454.0</td><td>852.0</td><td>1754.0</td><td>656.0</td><td>4.57</td><td>189900.0</td></tr><tr><td>18.0</td><td>2990.0</td><td>648.0</td><td>1280.0</td><td>532.0</td><td>2.625</td><td>68200.0</td></tr><tr><td>5.0</td><td>4423.0</td><td>763.0</td><td>1906.0</td><td>667.0</td><td>4.6855</td><td>125200.0</td></tr><tr><td>16.0</td><td>10077.0</td><td>2186.0</td><td>3048.0</td><td>1337.0</td><td>2.9647</td><td>110900.0</td></tr><tr><td>28.0</td><td>8399.0</td><td>1839.0</td><td>3470.0</td><td>1340.0</td><td>2.5885</td><td>159000.0</td></tr><tr><td>18.0</td><td>2547.0</td><td>463.0</td><td>411.0</td><td>214.0</td><td>2.5489</td><td>220500.0</td></tr><tr><td>31.0</td><td>6814.0</td><td>1714.0</td><td>2628.0</td><td>1341.0</td><td>2.1176</td><td>124100.0</td></tr><tr><td>24.0</td><td>6087.0</td><td>1217.0</td><td>1721.0</td><td>833.0</td><td>3.1493</td><td>199400.0</td></tr><tr><td>22.0</td><td>6050.0</td><td>1387.0</td><td>1432.0</td><td>890.0</td><td>2.2216</td><td>183900.0</td></tr><tr><td>18.0</td><td>9374.0</td><td>1780.0</td><td>1678.0</td><td>919.0</td><td>3.9737</td><td>235600.0</td></tr><tr><td>28.0</td><td>2992.0</td><td>562.0</td><td>676.0</td><td>346.0</td><td>5.7613</td><td>500001.0</td></tr><tr><td>15.0</td><td>6928.0</td><td>1529.0</td><td>2568.0</td><td>1075.0</td><td>2.5405</td><td>69600.0</td></tr><tr><td>36.0</td><td>1765.0</td><td>399.0</td><td>451.0</td><td>264.0</td><td>2.6083</td><td>321900.0</td></tr><tr><td>15.0</td><td>1985.0</td><td>361.0</td><td>536.0</td><td>209.0</td><td>4.125</td><td>148200.0</td></tr><tr><td>8.0</td><td>9975.0</td><td>1743.0</td><td>6835.0</td><td>1439.0</td><td>2.7138</td><td>22500.0</td></tr><tr><td>20.0</td><td>260.0</td><td>67.0</td><td>69.0</td><td>50.0</td><td>3.5208</td><td>76600.0</td></tr><tr><td>29.0</td><td>551.0</td><td>166.0</td><td>224.0</td><td>107.0</td><td>1.1917</td><td>50000.0</td></tr><tr><td>18.0</td><td>7962.0</td><td>1652.0</td><td>2009.0</td><td>921.0</td><td>3.3897</td><td>230200.0</td></tr><tr><td>10.0</td><td>489.0</td><td>82.0</td><td>183.0</td><td>74.0</td><td>6.2702</td><td>345500.0</td></tr><tr><td>19.0</td><td>4085.0</td><td>876.0</td><td>2133.0</td><td>718.0</td><td>2.919</td><td>116500.0</td></tr><tr><td>16.0</td><td>3730.0</td><td>827.0</td><td>1346.0</td><td>592.0</td><td>2.183</td><td>113500.0</td></tr><tr><td>23.0</td><td>1731.0</td><td>365.0</td><td>612.0</td><td>258.0</td><td>2.7813</td><td>172900.0</td></tr><tr><td>11.0</td><td>2522.0</td><td>538.0</td><td>616.0</td><td>269.0</td><td>3.875</td><td>198100.0</td></tr><tr><td>14.0</td><td>6438.0</td><td>1719.0</td><td>1586.0</td><td>691.0</td><td>1.6136</td><td>67400.0</td></tr><tr><td>18.0</td><td>4115.0</td><td>847.0</td><td>2032.0</td><td>745.0</td><td>4.0159</td><td>169100.0</td></tr><tr><td>13.0</td><td>843.0</td><td>157.0</td><td>918.0</td><td>152.0</td><td>6.2152</td><td>240600.0</td></tr><tr><td>16.0</td><td>349.0</td><td>74.0</td><td>120.0</td><td>43.0</td><td>5.359</td><td>193800.0</td></tr><tr><td>21.0</td><td>3460.0</td><td>711.0</td><td>658.0</td><td>255.0</td><td>3.5882</td><td>161100.0</td></tr><tr><td>26.0</td><td>1820.0</td><td>374.0</td><td>1001.0</td><td>324.0</td><td>2.1797</td><td>156300.0</td></tr><tr><td>12.0</td><td>549.0</td><td>109.0</td><td>209.0</td><td>90.0</td><td>3.0208</td><td>66300.0</td></tr><tr><td>14.0</td><td>4527.0</td><td>875.0</td><td>1640.0</td><td>590.0</td><td>2.8594</td><td>81700.0</td></tr><tr><td>13.0</td><td>3166.0</td><td>682.0</td><td>1250.0</td><td>475.0</td><td>2.355</td><td>122900.0</td></tr><tr><td>11.0</td><td>2385.0</td><td>661.0</td><td>682.0</td><td>242.0</td><td>2.9141</td><td>214300.0</td></tr><tr><td>17.0</td><td>4190.0</td><td>946.0</td><td>1802.0</td><td>673.0</td><td>2.4744</td><td>158200.0</td></tr><tr><td>16.0</td><td>5277.0</td><td>1070.0</td><td>657.0</td><td>276.0</td><td>3.3333</td><td>143400.0</td></tr><tr><td>17.0</td><td>4863.0</td><td>845.0</td><td>2266.0</td><td>769.0</td><td>4.2321</td><td>217400.0</td></tr><tr><td>17.0</td><td>3348.0</td><td>481.0</td><td>1222.0</td><td>443.0</td><td>6.6361</td><td>308600.0</td></tr><tr><td>14.0</td><td>3959.0</td><td>849.0</td><td>1064.0</td><td>376.0</td><td>2.8214</td><td>111400.0</td></tr><tr><td>4.0</td><td>42.0</td><td>10.0</td><td>9.0</td><td>3.0</td><td>0.536</td><td>42500.0</td></tr><tr><td>6.0</td><td>1251.0</td><td>268.0</td><td>544.0</td><td>216.0</td><td>3.0694</td><td>173400.0</td></tr><tr><td>16.0</td><td>3311.0</td><td>702.0</td><td>1627.0</td><td>624.0</td><td>3.1196</td><td>187200.0</td></tr><tr><td>14.0</td><td>4085.0</td><td>751.0</td><td>2129.0</td><td>688.0</td><td>4.7367</td><td>214500.0</td></tr><tr><td>19.0</td><td>2307.0</td><td>525.0</td><td>1266.0</td><td>437.0</td><td>1.6875</td><td>63000.0</td></tr><tr><td>7.0</td><td>12480.0</td><td>1946.0</td><td>5102.0</td><td>1697.0</td><td>5.5102</td><td>221000.0</td></tr><tr><td>16.0</td><td>319.0</td><td>68.0</td><td>212.0</td><td>67.0</td><td>1.4688</td><td>90000.0</td></tr><tr><td>12.0</td><td>4281.0</td><td>786.0</td><td>1891.0</td><td>721.0</td><td>3.5769</td><td>231800.0</td></tr><tr><td>19.0</td><td>2652.0</td><td>520.0</td><td>1421.0</td><td>491.0</td><td>3.5227</td><td>206100.0</td></tr><tr><td>35.0</td><td>324.0</td><td>63.0</td><td>158.0</td><td>39.0</td><td>3.4167</td><td>100000.0</td></tr><tr><td>11.0</td><td>3874.0</td><td>565.0</td><td>1672.0</td><td>546.0</td><td>6.1481</td><td>274600.0</td></tr><tr><td>11.0</td><td>5799.0</td><td>1527.0</td><td>713.0</td><td>262.0</td><td>2.5147</td><td>84700.0</td></tr><tr><td>15.0</td><td>8948.0</td><td>1985.0</td><td>1316.0</td><td>514.0</td><td>2.7375</td><td>90800.0</td></tr><tr><td>6.0</td><td>3123.0</td><td>495.0</td><td>1513.0</td><td>480.0</td><td>5.4288</td><td>167800.0</td></tr><tr><td>5.0</td><td>5673.0</td><td>855.0</td><td>2592.0</td><td>797.0</td><td>5.4155</td><td>199200.0</td></tr><tr><td>20.0</td><td>1066.0</td><td>219.0</td><td>536.0</td><td>173.0</td><td>3.1607</td><td>119300.0</td></tr><tr><td>16.0</td><td>2502.0</td><td>532.0</td><td>1211.0</td><td>494.0</td><td>3.2516</td><td>202100.0</td></tr><tr><td>26.0</td><td>3606.0</td><td>792.0</td><td>1683.0</td><td>608.0</td><td>2.6587</td><td>57400.0</td></tr><tr><td>5.0</td><td>5806.0</td><td>1030.0</td><td>569.0</td><td>219.0</td><td>4.0132</td><td>163100.0</td></tr><tr><td>17.0</td><td>4234.0</td><td>770.0</td><td>2191.0</td><td>725.0</td><td>3.6445</td><td>197600.0</td></tr><tr><td>13.0</td><td>4760.0</td><td>938.0</td><td>309.0</td><td>132.0</td><td>5.4618</td><td>147800.0</td></tr><tr><td>11.0</td><td>658.0</td><td>131.0</td><td>376.0</td><td>120.0</td><td>2.3977</td><td>58000.0</td></tr><tr><td>18.0</td><td>521.0</td><td>118.0</td><td>174.0</td><td>74.0</td><td>2.7788</td><td>91100.0</td></tr><tr><td>13.0</td><td>2604.0</td><td>443.0</td><td>978.0</td><td>417.0</td><td>2.933</td><td>170700.0</td></tr><tr><td>17.0</td><td>9044.0</td><td>1689.0</td><td>5030.0</td><td>1596.0</td><td>3.6348</td><td>164500.0</td></tr><tr><td>17.0</td><td>401.0</td><td>68.0</td><td>251.0</td><td>69.0</td><td>4.6518</td><td>170200.0</td></tr><tr><td>17.0</td><td>5799.0</td><td>921.0</td><td>2630.0</td><td>843.0</td><td>5.0524</td><td>285400.0</td></tr><tr><td>19.0</td><td>1747.0</td><td>291.0</td><td>848.0</td><td>290.0</td><td>4.875</td><td>187200.0</td></tr><tr><td>35.0</td><td>4448.0</td><td>906.0</td><td>2736.0</td><td>843.0</td><td>2.218</td><td>73400.0</td></tr><tr><td>32.0</td><td>3141.0</td><td>812.0</td><td>2589.0</td><td>721.0</td><td>1.4556</td><td>54600.0</td></tr><tr><td>5.0</td><td>4116.0</td><td>761.0</td><td>1714.0</td><td>717.0</td><td>2.5612</td><td>130800.0</td></tr><tr><td>12.0</td><td>1153.0</td><td>265.0</td><td>446.0</td><td>195.0</td><td>3.038</td><td>128100.0</td></tr><tr><td>15.0</td><td>2053.0</td><td>321.0</td><td>993.0</td><td>309.0</td><td>5.5164</td><td>248900.0</td></tr><tr><td>13.0</td><td>3268.0</td><td>491.0</td><td>1431.0</td><td>503.0</td><td>5.7652</td><td>259900.0</td></tr><tr><td>11.0</td><td>1089.0</td><td>198.0</td><td>230.0</td><td>90.0</td><td>4.9643</td><td>176000.0</td></tr><tr><td>13.0</td><td>4137.0</td><td>796.0</td><td>573.0</td><td>218.0</td><td>4.6394</td><td>226500.0</td></tr><tr><td>38.0</td><td>898.0</td><td>259.0</td><td>106.0</td><td>52.0</td><td>1.6875</td><td>225000.0</td></tr><tr><td>52.0</td><td>3419.0</td><td>777.0</td><td>710.0</td><td>265.0</td><td>3.9028</td><td>128600.0</td></tr><tr><td>37.0</td><td>1495.0</td><td>429.0</td><td>865.0</td><td>342.0</td><td>1.2188</td><td>55000.0</td></tr><tr><td>20.0</td><td>3111.0</td><td>623.0</td><td>1000.0</td><td>508.0</td><td>1.5982</td><td>140000.0</td></tr><tr><td>11.0</td><td>7217.0</td><td>1583.0</td><td>4197.0</td><td>1502.0</td><td>2.8827</td><td>166700.0</td></tr><tr><td>16.0</td><td>3204.0</td><td>541.0</td><td>1818.0</td><td>529.0</td><td>5.2596</td><td>171500.0</td></tr><tr><td>9.0</td><td>3049.0</td><td>471.0</td><td>1527.0</td><td>515.0</td><td>5.0733</td><td>196600.0</td></tr><tr><td>29.0</td><td>4549.0</td><td>916.0</td><td>2494.0</td><td>912.0</td><td>2.0976</td><td>72600.0</td></tr><tr><td>10.0</td><td>2653.0</td><td>621.0</td><td>1967.0</td><td>598.0</td><td>2.6643</td><td>81000.0</td></tr><tr><td>2.0</td><td>6900.0</td><td>1238.0</td><td>1950.0</td><td>980.0</td><td>3.0417</td><td>146300.0</td></tr><tr><td>23.0</td><td>2719.0</td><td>538.0</td><td>930.0</td><td>485.0</td><td>2.0154</td><td>81700.0</td></tr><tr><td>14.0</td><td>1016.0</td><td>219.0</td><td>443.0</td><td>169.0</td><td>2.8071</td><td>137500.0</td></tr><tr><td>14.0</td><td>2816.0</td><td>501.0</td><td>1448.0</td><td>452.0</td><td>5.0278</td><td>210900.0</td></tr><tr><td>16.0</td><td>1743.0</td><td>333.0</td><td>652.0</td><td>322.0</td><td>2.8906</td><td>158300.0</td></tr><tr><td>15.0</td><td>3560.0</td><td>593.0</td><td>1757.0</td><td>574.0</td><td>5.1185</td><td>185300.0</td></tr><tr><td>9.0</td><td>2652.0</td><td>393.0</td><td>1355.0</td><td>362.0</td><td>6.2578</td><td>293100.0</td></tr><tr><td>10.0</td><td>337.0</td><td>102.0</td><td>108.0</td><td>50.0</td><td>0.4999</td><td>55000.0</td></tr><tr><td>20.0</td><td>3481.0</td><td>840.0</td><td>1694.0</td><td>587.0</td><td>1.4</td><td>77700.0</td></tr><tr><td>16.0</td><td>3018.0</td><td>523.0</td><td>556.0</td><td>244.0</td><td>3.5288</td><td>189700.0</td></tr><tr><td>30.0</td><td>3915.0</td><td>672.0</td><td>1820.0</td><td>643.0</td><td>3.6339</td><td>98600.0</td></tr><tr><td>34.0</td><td>3183.0</td><td>738.0</td><td>1820.0</td><td>647.0</td><td>2.2321</td><td>71800.0</td></tr><tr><td>14.0</td><td>2281.0</td><td>426.0</td><td>894.0</td><td>430.0</td><td>2.3712</td><td>127900.0</td></tr><tr><td>15.0</td><td>652.0</td><td>149.0</td><td>248.0</td><td>97.0</td><td>2.1071</td><td>93800.0</td></tr><tr><td>11.0</td><td>4132.0</td><td>773.0</td><td>2012.0</td><td>703.0</td><td>3.1906</td><td>234500.0</td></tr><tr><td>11.0</td><td>3213.0</td><td>634.0</td><td>1975.0</td><td>579.0</td><td>3.475</td><td>167200.0</td></tr><tr><td>19.0</td><td>3090.0</td><td>552.0</td><td>1621.0</td><td>520.0</td><td>4.0806</td><td>189200.0</td></tr><tr><td>18.0</td><td>4215.0</td><td>810.0</td><td>2104.0</td><td>773.0</td><td>4.0873</td><td>146900.0</td></tr><tr><td>18.0</td><td>3612.0</td><td>737.0</td><td>1864.0</td><td>713.0</td><td>2.7069</td><td>153800.0</td></tr><tr><td>21.0</td><td>3770.0</td><td>491.0</td><td>1410.0</td><td>446.0</td><td>6.7685</td><td>294700.0</td></tr><tr><td>8.0</td><td>3600.0</td><td>492.0</td><td>1421.0</td><td>482.0</td><td>6.2609</td><td>307100.0</td></tr><tr><td>18.0</td><td>553.0</td><td>100.0</td><td>215.0</td><td>82.0</td><td>5.5</td><td>193800.0</td></tr><tr><td>13.0</td><td>10886.0</td><td>2127.0</td><td>4266.0</td><td>1955.0</td><td>2.3169</td><td>123400.0</td></tr><tr><td>19.0</td><td>6807.0</td><td>1164.0</td><td>2703.0</td><td>1055.0</td><td>3.1591</td><td>189700.0</td></tr><tr><td>14.0</td><td>3048.0</td><td>597.0</td><td>1690.0</td><td>576.0</td><td>4.3818</td><td>147100.0</td></tr><tr><td>15.0</td><td>3153.0</td><td>628.0</td><td>1633.0</td><td>527.0</td><td>3.6898</td><td>131000.0</td></tr><tr><td>10.0</td><td>3699.0</td><td>838.0</td><td>2310.0</td><td>759.0</td><td>2.5365</td><td>139500.0</td></tr><tr><td>21.0</td><td>4152.0</td><td>703.0</td><td>2255.0</td><td>697.0</td><td>4.5096</td><td>159500.0</td></tr><tr><td>16.0</td><td>5203.0</td><td>898.0</td><td>2515.0</td><td>862.0</td><td>4.105</td><td>174400.0</td></tr><tr><td>14.0</td><td>1978.0</td><td>424.0</td><td>1085.0</td><td>387.0</td><td>3.8073</td><td>170100.0</td></tr><tr><td>22.0</td><td>4331.0</td><td>637.0</td><td>1952.0</td><td>654.0</td><td>5.4834</td><td>232000.0</td></tr><tr><td>32.0</td><td>1943.0</td><td>287.0</td><td>1081.0</td><td>292.0</td><td>5.6846</td><td>208800.0</td></tr><tr><td>15.0</td><td>4058.0</td><td>511.0</td><td>1580.0</td><td>473.0</td><td>7.5</td><td>316400.0</td></tr><tr><td>8.0</td><td>4630.0</td><td>624.0</td><td>2048.0</td><td>575.0</td><td>6.4745</td><td>300300.0</td></tr><tr><td>18.0</td><td>397.0</td><td>89.0</td><td>239.0</td><td>80.0</td><td>2.8125</td><td>143800.0</td></tr><tr><td>23.0</td><td>1378.0</td><td>269.0</td><td>767.0</td><td>266.0</td><td>4.0625</td><td>145000.0</td></tr><tr><td>16.0</td><td>4675.0</td><td>834.0</td><td>2188.0</td><td>817.0</td><td>4.6674</td><td>178000.0</td></tr><tr><td>34.0</td><td>1765.0</td><td>284.0</td><td>772.0</td><td>282.0</td><td>5.0118</td><td>165300.0</td></tr><tr><td>17.0</td><td>2492.0</td><td>494.0</td><td>1278.0</td><td>439.0</td><td>2.8875</td><td>155700.0</td></tr><tr><td>16.0</td><td>2784.0</td><td>468.0</td><td>1458.0</td><td>465.0</td><td>4.0048</td><td>184600.0</td></tr><tr><td>33.0</td><td>1518.0</td><td>268.0</td><td>857.0</td><td>272.0</td><td>3.5586</td><td>160400.0</td></tr><tr><td>21.0</td><td>4192.0</td><td>752.0</td><td>2101.0</td><td>710.0</td><td>4.4306</td><td>159100.0</td></tr><tr><td>9.0</td><td>1859.0</td><td>307.0</td><td>947.0</td><td>304.0</td><td>5.9202</td><td>181300.0</td></tr><tr><td>13.0</td><td>7804.0</td><td>1594.0</td><td>3297.0</td><td>1469.0</td><td>2.0549</td><td>95600.0</td></tr><tr><td>14.0</td><td>6027.0</td><td>1148.0</td><td>3136.0</td><td>1036.0</td><td>2.964</td><td>121500.0</td></tr><tr><td>15.0</td><td>3757.0</td><td>666.0</td><td>1693.0</td><td>654.0</td><td>3.6806</td><td>112800.0</td></tr><tr><td>16.0</td><td>3490.0</td><td>545.0</td><td>1628.0</td><td>535.0</td><td>4.8836</td><td>239900.0</td></tr><tr><td>17.0</td><td>3722.0</td><td>670.0</td><td>1561.0</td><td>604.0</td><td>3.6027</td><td>211900.0</td></tr><tr><td>5.0</td><td>4116.0</td><td>990.0</td><td>2770.0</td><td>905.0</td><td>3.1142</td><td>150000.0</td></tr><tr><td>15.0</td><td>3273.0</td><td>895.0</td><td>1872.0</td><td>842.0</td><td>2.5388</td><td>119000.0</td></tr><tr><td>21.0</td><td>1283.0</td><td>278.0</td><td>684.0</td><td>289.0</td><td>2.3203</td><td>163500.0</td></tr><tr><td>26.0</td><td>4129.0</td><td>714.0</td><td>1820.0</td><td>718.0</td><td>4.2586</td><td>171000.0</td></tr><tr><td>18.0</td><td>2447.0</td><td>466.0</td><td>1573.0</td><td>472.0</td><td>2.6429</td><td>125400.0</td></tr><tr><td>23.0</td><td>5759.0</td><td>1258.0</td><td>3108.0</td><td>1202.0</td><td>3.0927</td><td>140600.0</td></tr><tr><td>19.0</td><td>3354.0</td><td>699.0</td><td>1948.0</td><td>682.0</td><td>3.0192</td><td>142300.0</td></tr><tr><td>20.0</td><td>6541.0</td><td>1401.0</td><td>2631.0</td><td>980.0</td><td>2.1339</td><td>78500.0</td></tr><tr><td>27.0</td><td>12342.0</td><td>2630.0</td><td>1300.0</td><td>566.0</td><td>1.998</td><td>153500.0</td></tr><tr><td>14.0</td><td>7240.0</td><td>1410.0</td><td>2708.0</td><td>1240.0</td><td>2.4145</td><td>137600.0</td></tr><tr><td>19.0</td><td>2901.0</td><td>445.0</td><td>1414.0</td><td>475.0</td><td>4.6406</td><td>118900.0</td></tr><tr><td>17.0</td><td>5160.0</td><td>851.0</td><td>2344.0</td><td>781.0</td><td>3.7175</td><td>120000.0</td></tr><tr><td>24.0</td><td>2541.0</td><td>381.0</td><td>1078.0</td><td>372.0</td><td>5.2542</td><td>227800.0</td></tr><tr><td>24.0</td><td>2824.0</td><td>441.0</td><td>1480.0</td><td>471.0</td><td>5.2614</td><td>177200.0</td></tr><tr><td>32.0</td><td>1607.0</td><td>253.0</td><td>778.0</td><td>262.0</td><td>4.5278</td><td>166300.0</td></tr><tr><td>38.0</td><td>1701.0</td><td>317.0</td><td>872.0</td><td>304.0</td><td>3.7831</td><td>147800.0</td></tr><tr><td>35.0</td><td>1737.0</td><td>285.0</td><td>826.0</td><td>294.0</td><td>3.2411</td><td>159200.0</td></tr><tr><td>28.0</td><td>3042.0</td><td>729.0</td><td>1964.0</td><td>703.0</td><td>2.4141</td><td>137500.0</td></tr><tr><td>21.0</td><td>7906.0</td><td>2292.0</td><td>4868.0</td><td>2117.0</td><td>1.8937</td><td>109800.0</td></tr><tr><td>17.0</td><td>13559.0</td><td>2656.0</td><td>6990.0</td><td>2533.0</td><td>3.434</td><td>193200.0</td></tr><tr><td>4.0</td><td>14934.0</td><td>2479.0</td><td>6945.0</td><td>2418.0</td><td>5.1221</td><td>229700.0</td></tr><tr><td>14.0</td><td>5320.0</td><td>974.0</td><td>1947.0</td><td>843.0</td><td>3.1393</td><td>116300.0</td></tr><tr><td>8.0</td><td>10997.0</td><td>2205.0</td><td>5060.0</td><td>1949.0</td><td>2.1979</td><td>95300.0</td></tr><tr><td>24.0</td><td>3409.0</td><td>804.0</td><td>1939.0</td><td>739.0</td><td>1.7303</td><td>74000.0</td></tr><tr><td>10.0</td><td>6890.0</td><td>1702.0</td><td>3141.0</td><td>1451.0</td><td>1.7079</td><td>95900.0</td></tr><tr><td>23.0</td><td>4676.0</td><td>1096.0</td><td>2770.0</td><td>1057.0</td><td>1.7847</td><td>109500.0</td></tr><tr><td>19.0</td><td>2238.0</td><td>573.0</td><td>1190.0</td><td>507.0</td><td>2.0714</td><td>85800.0</td></tr><tr><td>20.0</td><td>2233.0</td><td>431.0</td><td>1024.0</td><td>399.0</td><td>2.4554</td><td>89400.0</td></tr><tr><td>18.0</td><td>1996.0</td><td>405.0</td><td>1270.0</td><td>400.0</td><td>2.7083</td><td>91200.0</td></tr><tr><td>21.0</td><td>4587.0</td><td>810.0</td><td>2233.0</td><td>765.0</td><td>3.2371</td><td>94500.0</td></tr><tr><td>11.0</td><td>1183.0</td><td>178.0</td><td>543.0</td><td>147.0</td><td>4.4792</td><td>173900.0</td></tr><tr><td>16.0</td><td>2921.0</td><td>639.0</td><td>1838.0</td><td>540.0</td><td>2.2393</td><td>117000.0</td></tr><tr><td>18.0</td><td>2087.0</td><td>353.0</td><td>992.0</td><td>329.0</td><td>4.5</td><td>222600.0</td></tr><tr><td>31.0</td><td>1307.0</td><td>245.0</td><td>752.0</td><td>231.0</td><td>3.4286</td><td>129400.0</td></tr><tr><td>14.0</td><td>12517.0</td><td>2506.0</td><td>6389.0</td><td>2333.0</td><td>3.3081</td><td>168700.0</td></tr><tr><td>18.0</td><td>3038.0</td><td>592.0</td><td>1904.0</td><td>595.0</td><td>3.8024</td><td>144900.0</td></tr><tr><td>12.0</td><td>5535.0</td><td>1434.0</td><td>3112.0</td><td>1262.0</td><td>2.5949</td><td>108300.0</td></tr><tr><td>31.0</td><td>1277.0</td><td>293.0</td><td>698.0</td><td>237.0</td><td>3.1106</td><td>147700.0</td></tr><tr><td>15.0</td><td>2619.0</td><td>599.0</td><td>1513.0</td><td>537.0</td><td>2.543</td><td>100000.0</td></tr><tr><td>19.0</td><td>11391.0</td><td>3093.0</td><td>7178.0</td><td>2905.0</td><td>2.0326</td><td>123200.0</td></tr><tr><td>33.0</td><td>2432.0</td><td>443.0</td><td>1147.0</td><td>427.0</td><td>3.3906</td><td>138100.0</td></tr><tr><td>20.0</td><td>3425.0</td><td>448.0</td><td>1489.0</td><td>443.0</td><td>6.2552</td><td>296400.0</td></tr><tr><td>25.0</td><td>3308.0</td><td>421.0</td><td>1201.0</td><td>414.0</td><td>6.3191</td><td>303400.0</td></tr><tr><td>13.0</td><td>5543.0</td><td>857.0</td><td>2074.0</td><td>737.0</td><td>4.9528</td><td>266200.0</td></tr><tr><td>17.0</td><td>1635.0</td><td>272.0</td><td>960.0</td><td>279.0</td><td>5.2671</td><td>157100.0</td></tr><tr><td>20.0</td><td>2355.0</td><td>467.0</td><td>1198.0</td><td>428.0</td><td>3.9934</td><td>88500.0</td></tr><tr><td>30.0</td><td>1211.0</td><td>289.0</td><td>611.0</td><td>230.0</td><td>1.6667</td><td>44700.0</td></tr><tr><td>22.0</td><td>1999.0</td><td>497.0</td><td>1304.0</td><td>479.0</td><td>1.4063</td><td>81900.0</td></tr><tr><td>21.0</td><td>2990.0</td><td>691.0</td><td>2108.0</td><td>660.0</td><td>2.0135</td><td>83000.0</td></tr><tr><td>35.0</td><td>3269.0</td><td>757.0</td><td>2328.0</td><td>705.0</td><td>2.5898</td><td>76300.0</td></tr><tr><td>19.0</td><td>3649.0</td><td>755.0</td><td>1717.0</td><td>696.0</td><td>2.2115</td><td>87600.0</td></tr><tr><td>20.0</td><td>4735.0</td><td>973.0</td><td>2306.0</td><td>904.0</td><td>3.069</td><td>87000.0</td></tr><tr><td>16.0</td><td>3047.0</td><td>495.0</td><td>1507.0</td><td>499.0</td><td>5.3008</td><td>186500.0</td></tr><tr><td>17.0</td><td>4713.0</td><td>740.0</td><td>2531.0</td><td>723.0</td><td>4.8286</td><td>158500.0</td></tr><tr><td>14.0</td><td>3064.0</td><td>496.0</td><td>1681.0</td><td>503.0</td><td>4.4347</td><td>160300.0</td></tr><tr><td>11.0</td><td>9724.0</td><td>1796.0</td><td>5247.0</td><td>1777.0</td><td>4.1716</td><td>166100.0</td></tr><tr><td>8.0</td><td>2378.0</td><td>638.0</td><td>1410.0</td><td>623.0</td><td>2.9097</td><td>152500.0</td></tr><tr><td>25.0</td><td>3421.0</td><td>803.0</td><td>1681.0</td><td>742.0</td><td>3.369</td><td>134400.0</td></tr><tr><td>19.0</td><td>4574.0</td><td>1152.0</td><td>3045.0</td><td>1057.0</td><td>2.065</td><td>124100.0</td></tr><tr><td>16.0</td><td>3920.0</td><td>1094.0</td><td>2612.0</td><td>1023.0</td><td>1.3291</td><td>120800.0</td></tr><tr><td>35.0</td><td>1081.0</td><td>266.0</td><td>691.0</td><td>259.0</td><td>2.6324</td><td>133700.0</td></tr><tr><td>19.0</td><td>3008.0</td><td>693.0</td><td>2341.0</td><td>689.0</td><td>2.6087</td><td>123800.0</td></tr><tr><td>17.0</td><td>5236.0</td><td>1325.0</td><td>3308.0</td><td>1233.0</td><td>2.3221</td><td>138800.0</td></tr><tr><td>26.0</td><td>2807.0</td><td>630.0</td><td>1785.0</td><td>580.0</td><td>2.1638</td><td>132800.0</td></tr><tr><td>12.0</td><td>5876.0</td><td>1222.0</td><td>2992.0</td><td>1151.0</td><td>2.4322</td><td>112100.0</td></tr><tr><td>29.0</td><td>3197.0</td><td>632.0</td><td>1722.0</td><td>603.0</td><td>3.0432</td><td>91200.0</td></tr><tr><td>29.0</td><td>2793.0</td><td>722.0</td><td>1583.0</td><td>626.0</td><td>1.424</td><td>73200.0</td></tr><tr><td>24.0</td><td>2680.0</td><td>606.0</td><td>1728.0</td><td>527.0</td><td>2.535</td><td>74800.0</td></tr><tr><td>31.0</td><td>2712.0</td><td>628.0</td><td>1519.0</td><td>629.0</td><td>1.942</td><td>86200.0</td></tr><tr><td>20.0</td><td>3674.0</td><td>792.0</td><td>1498.0</td><td>758.0</td><td>2.2161</td><td>76900.0</td></tr><tr><td>10.0</td><td>5149.0</td><td>851.0</td><td>2177.0</td><td>783.0</td><td>6.7957</td><td>287500.0</td></tr><tr><td>23.0</td><td>149.0</td><td>32.0</td><td>101.0</td><td>34.0</td><td>2.6458</td><td>112500.0</td></tr><tr><td>15.0</td><td>3927.0</td><td>1018.0</td><td>2204.0</td><td>977.0</td><td>2.4367</td><td>111400.0</td></tr><tr><td>32.0</td><td>1255.0</td><td>338.0</td><td>782.0</td><td>302.0</td><td>2.6635</td><td>113600.0</td></tr><tr><td>19.0</td><td>4108.0</td><td>1101.0</td><td>2971.0</td><td>1006.0</td><td>1.9893</td><td>112500.0</td></tr><tr><td>37.0</td><td>1255.0</td><td>238.0</td><td>671.0</td><td>278.0</td><td>3.7019</td><td>138600.0</td></tr><tr><td>35.0</td><td>1113.0</td><td>236.0</td><td>681.0</td><td>246.0</td><td>2.9784</td><td>136400.0</td></tr><tr><td>26.0</td><td>8902.0</td><td>1413.0</td><td>3941.0</td><td>1387.0</td><td>4.7943</td><td>226900.0</td></tr><tr><td>33.0</td><td>3071.0</td><td>466.0</td><td>1348.0</td><td>513.0</td><td>6.1768</td><td>228900.0</td></tr><tr><td>26.0</td><td>2460.0</td><td>313.0</td><td>838.0</td><td>299.0</td><td>5.9878</td><td>270700.0</td></tr><tr><td>28.0</td><td>3519.0</td><td>583.0</td><td>1720.0</td><td>590.0</td><td>4.7973</td><td>186900.0</td></tr><tr><td>14.0</td><td>7410.0</td><td>1344.0</td><td>3597.0</td><td>1274.0</td><td>4.2192</td><td>176100.0</td></tr><tr><td>4.0</td><td>16450.0</td><td>2833.0</td><td>7985.0</td><td>2683.0</td><td>5.6631</td><td>233400.0</td></tr><tr><td>23.0</td><td>1262.0</td><td>294.0</td><td>5176.0</td><td>275.0</td><td>2.5625</td><td>153300.0</td></tr><tr><td>16.0</td><td>2098.0</td><td>449.0</td><td>342.0</td><td>143.0</td><td>4.0333</td><td>133900.0</td></tr><tr><td>21.0</td><td>739.0</td><td>125.0</td><td>199.0</td><td>82.0</td><td>4.8958</td><td>117500.0</td></tr><tr><td>6.0</td><td>2290.0</td><td>312.0</td><td>957.0</td><td>274.0</td><td>7.2708</td><td>316700.0</td></tr><tr><td>27.0</td><td>3459.0</td><td>640.0</td><td>1760.0</td><td>654.0</td><td>3.4545</td><td>89800.0</td></tr><tr><td>40.0</td><td>2277.0</td><td>498.0</td><td>1391.0</td><td>453.0</td><td>1.9472</td><td>73200.0</td></tr><tr><td>33.0</td><td>376.0</td><td>83.0</td><td>267.0</td><td>88.0</td><td>2.1581</td><td>68300.0</td></tr><tr><td>15.0</td><td>2228.0</td><td>472.0</td><td>653.0</td><td>350.0</td><td>2.683</td><td>139300.0</td></tr><tr><td>12.0</td><td>5829.0</td><td>1309.0</td><td>2711.0</td><td>1118.0</td><td>1.9707</td><td>107900.0</td></tr><tr><td>25.0</td><td>4952.0</td><td>1062.0</td><td>1589.0</td><td>1024.0</td><td>1.8446</td><td>85700.0</td></tr><tr><td>12.0</td><td>7320.0</td><td>1279.0</td><td>4048.0</td><td>1249.0</td><td>4.3952</td><td>151700.0</td></tr><tr><td>19.0</td><td>2121.0</td><td>341.0</td><td>1236.0</td><td>353.0</td><td>4.7717</td><td>153200.0</td></tr><tr><td>16.0</td><td>7718.0</td><td>1423.0</td><td>4383.0</td><td>1394.0</td><td>4.0693</td><td>146400.0</td></tr><tr><td>12.0</td><td>3570.0</td><td>713.0</td><td>3321.0</td><td>666.0</td><td>4.0882</td><td>134500.0</td></tr><tr><td>28.0</td><td>5721.0</td><td>1029.0</td><td>2672.0</td><td>1054.0</td><td>3.963</td><td>164400.0</td></tr><tr><td>32.0</td><td>3756.0</td><td>662.0</td><td>1611.0</td><td>598.0</td><td>3.8667</td><td>189700.0</td></tr><tr><td>29.0</td><td>3558.0</td><td>447.0</td><td>1097.0</td><td>445.0</td><td>8.093</td><td>379600.0</td></tr><tr><td>25.0</td><td>4137.0</td><td>662.0</td><td>1905.0</td><td>630.0</td><td>4.375</td><td>214000.0</td></tr><tr><td>18.0</td><td>1519.0</td><td>369.0</td><td>802.0</td><td>347.0</td><td>2.9886</td><td>170800.0</td></tr><tr><td>24.0</td><td>977.0</td><td>147.0</td><td>454.0</td><td>169.0</td><td>4.9286</td><td>173700.0</td></tr><tr><td>16.0</td><td>3361.0</td><td>537.0</td><td>1754.0</td><td>578.0</td><td>5.1098</td><td>162300.0</td></tr><tr><td>16.0</td><td>952.0</td><td>143.0</td><td>530.0</td><td>143.0</td><td>5.0864</td><td>175300.0</td></tr><tr><td>4.0</td><td>1078.0</td><td>158.0</td><td>571.0</td><td>184.0</td><td>4.6667</td><td>223300.0</td></tr><tr><td>18.0</td><td>2355.0</td><td>444.0</td><td>1277.0</td><td>433.0</td><td>3.4551</td><td>121400.0</td></tr><tr><td>24.0</td><td>2741.0</td><td>577.0</td><td>1551.0</td><td>522.0</td><td>3.474</td><td>70500.0</td></tr><tr><td>23.0</td><td>6060.0</td><td>1165.0</td><td>2920.0</td><td>1072.0</td><td>3.1528</td><td>69000.0</td></tr><tr><td>29.0</td><td>5055.0</td><td>1036.0</td><td>410.0</td><td>191.0</td><td>3.5104</td><td>157100.0</td></tr><tr><td>22.0</td><td>4227.0</td><td>658.0</td><td>1849.0</td><td>619.0</td><td>4.7356</td><td>195900.0</td></tr><tr><td>26.0</td><td>503.0</td><td>69.0</td><td>293.0</td><td>59.0</td><td>3.7083</td><td>147500.0</td></tr><tr><td>7.0</td><td>10352.0</td><td>2007.0</td><td>3559.0</td><td>1689.0</td><td>2.2925</td><td>113100.0</td></tr><tr><td>12.0</td><td>7626.0</td><td>1704.0</td><td>2823.0</td><td>1554.0</td><td>2.1722</td><td>69400.0</td></tr><tr><td>18.0</td><td>9601.0</td><td>2401.0</td><td>4002.0</td><td>2106.0</td><td>1.4366</td><td>77000.0</td></tr><tr><td>13.0</td><td>16148.0</td><td>3474.0</td><td>6159.0</td><td>3232.0</td><td>1.9961</td><td>97800.0</td></tr><tr><td>13.0</td><td>1614.0</td><td>410.0</td><td>846.0</td><td>270.0</td><td>2.83</td><td>43000.0</td></tr><tr><td>17.0</td><td>5509.0</td><td>866.0</td><td>2748.0</td><td>817.0</td><td>4.8854</td><td>181300.0</td></tr><tr><td>32.0</td><td>5211.0</td><td>949.0</td><td>3025.0</td><td>948.0</td><td>4.0931</td><td>134200.0</td></tr><tr><td>20.0</td><td>6696.0</td><td>1326.0</td><td>3687.0</td><td>1291.0</td><td>3.1979</td><td>154600.0</td></tr><tr><td>25.0</td><td>4436.0</td><td>758.0</td><td>1997.0</td><td>738.0</td><td>4.2386</td><td>201000.0</td></tr><tr><td>18.0</td><td>10968.0</td><td>1521.0</td><td>4439.0</td><td>1501.0</td><td>6.2787</td><td>250000.0</td></tr><tr><td>34.0</td><td>3657.0</td><td>538.0</td><td>1513.0</td><td>562.0</td><td>5.2907</td><td>195800.0</td></tr><tr><td>33.0</td><td>2420.0</td><td>393.0</td><td>1003.0</td><td>397.0</td><td>4.0658</td><td>165100.0</td></tr><tr><td>26.0</td><td>3623.0</td><td>703.0</td><td>1609.0</td><td>669.0</td><td>3.744</td><td>165800.0</td></tr><tr><td>29.0</td><td>1114.0</td><td>163.0</td><td>385.0</td><td>154.0</td><td>5.4333</td><td>222800.0</td></tr><tr><td>35.0</td><td>2306.0</td><td>334.0</td><td>828.0</td><td>310.0</td><td>6.1103</td><td>301600.0</td></tr><tr><td>18.0</td><td>3341.0</td><td>611.0</td><td>1952.0</td><td>602.0</td><td>3.9844</td><td>215300.0</td></tr><tr><td>17.0</td><td>3101.0</td><td>547.0</td><td>1410.0</td><td>486.0</td><td>3.1771</td><td>189900.0</td></tr><tr><td>30.0</td><td>1856.0</td><td>339.0</td><td>1103.0</td><td>379.0</td><td>4.0357</td><td>153800.0</td></tr><tr><td>15.0</td><td>825.0</td><td>130.0</td><td>334.0</td><td>131.0</td><td>4.0391</td><td>169500.0</td></tr><tr><td>14.0</td><td>1771.0</td><td>301.0</td><td>1046.0</td><td>284.0</td><td>4.775</td><td>143300.0</td></tr><tr><td>13.0</td><td>1330.0</td><td>216.0</td><td>719.0</td><td>215.0</td><td>3.8295</td><td>149600.0</td></tr><tr><td>11.0</td><td>1112.0</td><td>164.0</td><td>441.0</td><td>174.0</td><td>4.7679</td><td>169500.0</td></tr><tr><td>21.0</td><td>3049.0</td><td>582.0</td><td>2355.0</td><td>585.0</td><td>3.8904</td><td>113800.0</td></tr><tr><td>15.0</td><td>3660.0</td><td>622.0</td><td>2629.0</td><td>612.0</td><td>4.0444</td><td>150100.0</td></tr><tr><td>15.0</td><td>4331.0</td><td>699.0</td><td>2046.0</td><td>627.0</td><td>3.9519</td><td>193500.0</td></tr><tr><td>29.0</td><td>2637.0</td><td>512.0</td><td>1188.0</td><td>446.0</td><td>2.99</td><td>69400.0</td></tr><tr><td>16.0</td><td>6862.0</td><td>1292.0</td><td>3562.0</td><td>1126.0</td><td>3.6091</td><td>87200.0</td></tr><tr><td>8.0</td><td>5330.0</td><td>1529.0</td><td>2143.0</td><td>1107.0</td><td>2.1103</td><td>94400.0</td></tr><tr><td>17.0</td><td>2073.0</td><td>313.0</td><td>573.0</td><td>221.0</td><td>8.2531</td><td>419200.0</td></tr><tr><td>18.0</td><td>11544.0</td><td>1979.0</td><td>6296.0</td><td>1923.0</td><td>4.4904</td><td>150400.0</td></tr><tr><td>24.0</td><td>1888.0</td><td>319.0</td><td>950.0</td><td>319.0</td><td>5.282</td><td>140800.0</td></tr><tr><td>33.0</td><td>1816.0</td><td>325.0</td><td>768.0</td><td>316.0</td><td>4.5662</td><td>150300.0</td></tr><tr><td>35.0</td><td>2114.0</td><td>317.0</td><td>881.0</td><td>320.0</td><td>5.5</td><td>241400.0</td></tr><tr><td>30.0</td><td>1802.0</td><td>401.0</td><td>776.0</td><td>386.0</td><td>2.8125</td><td>173500.0</td></tr><tr><td>31.0</td><td>2545.0</td><td>373.0</td><td>956.0</td><td>342.0</td><td>4.3977</td><td>226800.0</td></tr><tr><td>31.0</td><td>1989.0</td><td>280.0</td><td>805.0</td><td>301.0</td><td>6.5645</td><td>189100.0</td></tr><tr><td>17.0</td><td>2357.0</td><td>599.0</td><td>1423.0</td><td>510.0</td><td>1.8856</td><td>118800.0</td></tr><tr><td>10.0</td><td>3817.0</td><td>943.0</td><td>2352.0</td><td>875.0</td><td>2.1362</td><td>143200.0</td></tr><tr><td>22.0</td><td>2263.0</td><td>441.0</td><td>1395.0</td><td>416.0</td><td>3.725</td><td>123500.0</td></tr><tr><td>23.0</td><td>2785.0</td><td>468.0</td><td>1456.0</td><td>449.0</td><td>4.3714</td><td>131000.0</td></tr><tr><td>16.0</td><td>2238.0</td><td>307.0</td><td>1002.0</td><td>303.0</td><td>6.6143</td><td>264100.0</td></tr><tr><td>11.0</td><td>3098.0</td><td>490.0</td><td>1391.0</td><td>484.0</td><td>4.9792</td><td>170400.0</td></tr><tr><td>36.0</td><td>2181.0</td><td>555.0</td><td>1404.0</td><td>492.0</td><td>2.3077</td><td>55500.0</td></tr><tr><td>34.0</td><td>2194.0</td><td>519.0</td><td>1326.0</td><td>515.0</td><td>2.1056</td><td>72000.0</td></tr><tr><td>26.0</td><td>2599.0</td><td>498.0</td><td>1332.0</td><td>443.0</td><td>2.7198</td><td>70400.0</td></tr><tr><td>15.0</td><td>5592.0</td><td>891.0</td><td>2419.0</td><td>840.0</td><td>4.7193</td><td>135200.0</td></tr><tr><td>18.0</td><td>4775.0</td><td>886.0</td><td>1868.0</td><td>836.0</td><td>2.3355</td><td>118800.0</td></tr><tr><td>13.0</td><td>4595.0</td><td>567.0</td><td>1643.0</td><td>544.0</td><td>7.7684</td><td>362300.0</td></tr><tr><td>8.0</td><td>3372.0</td><td>430.0</td><td>1536.0</td><td>448.0</td><td>8.4284</td><td>378300.0</td></tr><tr><td>23.0</td><td>2592.0</td><td>414.0</td><td>1401.0</td><td>431.0</td><td>5.4903</td><td>151400.0</td></tr><tr><td>23.0</td><td>1951.0</td><td>395.0</td><td>901.0</td><td>378.0</td><td>3.1023</td><td>143300.0</td></tr><tr><td>17.0</td><td>15401.0</td><td>3280.0</td><td>7302.0</td><td>3176.0</td><td>3.3067</td><td>121900.0</td></tr><tr><td>26.0</td><td>4499.0</td><td>645.0</td><td>1866.0</td><td>626.0</td><td>5.516</td><td>185100.0</td></tr><tr><td>21.0</td><td>4203.0</td><td>618.0</td><td>1620.0</td><td>600.0</td><td>5.3441</td><td>193500.0</td></tr><tr><td>20.0</td><td>2705.0</td><td>545.0</td><td>1198.0</td><td>497.0</td><td>3.7159</td><td>168900.0</td></tr><tr><td>17.0</td><td>1558.0</td><td>479.0</td><td>803.0</td><td>431.0</td><td>2.6934</td><td>160200.0</td></tr><tr><td>17.0</td><td>1042.0</td><td>210.0</td><td>650.0</td><td>215.0</td><td>3.1</td><td>84200.0</td></tr><tr><td>33.0</td><td>4015.0</td><td>663.0</td><td>1864.0</td><td>664.0</td><td>4.3152</td><td>159300.0</td></tr><tr><td>31.0</td><td>3776.0</td><td>815.0</td><td>1886.0</td><td>799.0</td><td>3.4421</td><td>155300.0</td></tr><tr><td>20.0</td><td>2616.0</td><td>597.0</td><td>1532.0</td><td>579.0</td><td>2.9896</td><td>235600.0</td></tr><tr><td>43.0</td><td>841.0</td><td>192.0</td><td>496.0</td><td>207.0</td><td>3.0179</td><td>149300.0</td></tr><tr><td>34.0</td><td>3330.0</td><td>723.0</td><td>1592.0</td><td>656.0</td><td>2.6678</td><td>164200.0</td></tr><tr><td>34.0</td><td>3415.0</td><td>608.0</td><td>1464.0</td><td>593.0</td><td>4.0549</td><td>223700.0</td></tr><tr><td>22.0</td><td>3626.0</td><td>824.0</td><td>1800.0</td><td>769.0</td><td>2.8594</td><td>189600.0</td></tr><tr><td>34.0</td><td>2105.0</td><td>340.0</td><td>973.0</td><td>357.0</td><td>4.3088</td><td>152500.0</td></tr><tr><td>26.0</td><td>4038.0</td><td>706.0</td><td>2065.0</td><td>687.0</td><td>3.9545</td><td>178100.0</td></tr><tr><td>31.0</td><td>3473.0</td><td>722.0</td><td>2098.0</td><td>677.0</td><td>2.6973</td><td>135200.0</td></tr><tr><td>22.0</td><td>2526.0</td><td>530.0</td><td>1556.0</td><td>529.0</td><td>2.8646</td><td>120800.0</td></tr><tr><td>12.0</td><td>2914.0</td><td>734.0</td><td>2104.0</td><td>703.0</td><td>2.3068</td><td>132300.0</td></tr><tr><td>20.0</td><td>3506.0</td><td>692.0</td><td>1977.0</td><td>668.0</td><td>2.981</td><td>129100.0</td></tr><tr><td>7.0</td><td>2327.0</td><td>490.0</td><td>1304.0</td><td>445.0</td><td>3.3553</td><td>132200.0</td></tr><tr><td>25.0</td><td>2321.0</td><td>398.0</td><td>1434.0</td><td>386.0</td><td>3.5341</td><td>120800.0</td></tr><tr><td>17.0</td><td>2319.0</td><td>348.0</td><td>1125.0</td><td>337.0</td><td>5.551</td><td>266900.0</td></tr><tr><td>11.0</td><td>9992.0</td><td>1368.0</td><td>4495.0</td><td>1316.0</td><td>6.9664</td><td>293900.0</td></tr><tr><td>7.0</td><td>6483.0</td><td>976.0</td><td>3269.0</td><td>1005.0</td><td>5.7358</td><td>221600.0</td></tr><tr><td>19.0</td><td>619.0</td><td>239.0</td><td>490.0</td><td>164.0</td><td>2.1</td><td>14999.0</td></tr><tr><td>37.0</td><td>1199.0</td><td>351.0</td><td>782.0</td><td>296.0</td><td>1.6515</td><td>61600.0</td></tr><tr><td>29.0</td><td>3111.0</td><td>661.0</td><td>1530.0</td><td>608.0</td><td>2.8281</td><td>69300.0</td></tr><tr><td>19.0</td><td>4415.0</td><td>648.0</td><td>1627.0</td><td>619.0</td><td>4.2361</td><td>191600.0</td></tr><tr><td>5.0</td><td>1822.0</td><td>367.0</td><td>798.0</td><td>313.0</td><td>2.8783</td><td>105200.0</td></tr><tr><td>10.0</td><td>6317.0</td><td>1335.0</td><td>2625.0</td><td>1094.0</td><td>2.3</td><td>108900.0</td></tr><tr><td>20.0</td><td>1317.0</td><td>203.0</td><td>453.0</td><td>158.0</td><td>2.8393</td><td>120700.0</td></tr><tr><td>14.0</td><td>3700.0</td><td>750.0</td><td>1171.0</td><td>695.0</td><td>1.9476</td><td>112500.0</td></tr><tr><td>6.0</td><td>8278.0</td><td>1579.0</td><td>3062.0</td><td>1446.0</td><td>3.0043</td><td>134700.0</td></tr><tr><td>7.0</td><td>1972.0</td><td>352.0</td><td>964.0</td><td>317.0</td><td>3.244</td><td>337200.0</td></tr><tr><td>25.0</td><td>1909.0</td><td>334.0</td><td>1043.0</td><td>322.0</td><td>3.7784</td><td>160100.0</td></tr><tr><td>17.0</td><td>4013.0</td><td>673.0</td><td>2263.0</td><td>661.0</td><td>5.131</td><td>148300.0</td></tr><tr><td>27.0</td><td>1950.0</td><td>317.0</td><td>950.0</td><td>320.0</td><td>4.0656</td><td>164000.0</td></tr><tr><td>26.0</td><td>1998.0</td><td>301.0</td><td>874.0</td><td>305.0</td><td>5.4544</td><td>180900.0</td></tr><tr><td>14.0</td><td>3173.0</td><td>599.0</td><td>1451.0</td><td>585.0</td><td>3.7292</td><td>182200.0</td></tr><tr><td>29.0</td><td>1232.0</td><td>243.0</td><td>665.0</td><td>247.0</td><td>3.65</td><td>168900.0</td></tr><tr><td>27.0</td><td>2369.0</td><td>370.0</td><td>927.0</td><td>374.0</td><td>4.1162</td><td>177200.0</td></tr><tr><td>36.0</td><td>2211.0</td><td>384.0</td><td>868.0</td><td>329.0</td><td>4.0491</td><td>147900.0</td></tr><tr><td>33.0</td><td>3481.0</td><td>708.0</td><td>1726.0</td><td>719.0</td><td>3.3675</td><td>158200.0</td></tr><tr><td>31.0</td><td>2567.0</td><td>507.0</td><td>1198.0</td><td>499.0</td><td>3.4659</td><td>163000.0</td></tr><tr><td>40.0</td><td>2523.0</td><td>488.0</td><td>976.0</td><td>470.0</td><td>3.11</td><td>185700.0</td></tr><tr><td>15.0</td><td>1204.0</td><td>326.0</td><td>543.0</td><td>326.0</td><td>1.0278</td><td>154200.0</td></tr><tr><td>33.0</td><td>3296.0</td><td>537.0</td><td>1345.0</td><td>556.0</td><td>5.2835</td><td>217100.0</td></tr><tr><td>30.0</td><td>4205.0</td><td>772.0</td><td>2012.0</td><td>734.0</td><td>3.5</td><td>144700.0</td></tr><tr><td>12.0</td><td>3301.0</td><td>963.0</td><td>2000.0</td><td>879.0</td><td>1.8594</td><td>119200.0</td></tr><tr><td>22.0</td><td>5201.0</td><td>865.0</td><td>3280.0</td><td>817.0</td><td>4.7952</td><td>141400.0</td></tr><tr><td>36.0</td><td>2030.0</td><td>369.0</td><td>1142.0</td><td>357.0</td><td>3.7763</td><td>126900.0</td></tr><tr><td>30.0</td><td>3187.0</td><td>592.0</td><td>2082.0</td><td>631.0</td><td>3.5388</td><td>118500.0</td></tr><tr><td>22.0</td><td>2756.0</td><td>516.0</td><td>1849.0</td><td>486.0</td><td>4.1837</td><td>125400.0</td></tr><tr><td>14.0</td><td>3986.0</td><td>675.0</td><td>2065.0</td><td>702.0</td><td>5.7192</td><td>267400.0</td></tr><tr><td>20.0</td><td>1505.0</td><td>184.0</td><td>635.0</td><td>182.0</td><td>6.5772</td><td>245200.0</td></tr><tr><td>19.0</td><td>771.0</td><td>103.0</td><td>376.0</td><td>108.0</td><td>6.6272</td><td>273600.0</td></tr><tr><td>5.0</td><td>260.0</td><td>41.0</td><td>157.0</td><td>42.0</td><td>6.5151</td><td>281700.0</td></tr><tr><td>19.0</td><td>1902.0</td><td>335.0</td><td>1102.0</td><td>313.0</td><td>3.0365</td><td>98100.0</td></tr><tr><td>27.0</td><td>2718.0</td><td>583.0</td><td>1472.0</td><td>509.0</td><td>2.825</td><td>76600.0</td></tr><tr><td>7.0</td><td>2245.0</td><td>407.0</td><td>1016.0</td><td>364.0</td><td>3.9464</td><td>101500.0</td></tr><tr><td>16.0</td><td>3784.0</td><td>577.0</td><td>1615.0</td><td>525.0</td><td>4.2333</td><td>220300.0</td></tr><tr><td>26.0</td><td>3501.0</td><td>664.0</td><td>1860.0</td><td>681.0</td><td>3.0403</td><td>113500.0</td></tr><tr><td>6.0</td><td>78.0</td><td>11.0</td><td>27.0</td><td>10.0</td><td>3.125</td><td>187500.0</td></tr><tr><td>14.0</td><td>1088.0</td><td>209.0</td><td>601.0</td><td>193.0</td><td>3.8438</td><td>243800.0</td></tr><tr><td>17.0</td><td>5391.0</td><td>886.0</td><td>2732.0</td><td>830.0</td><td>5.1771</td><td>212800.0</td></tr><tr><td>25.0</td><td>3142.0</td><td>446.0</td><td>1286.0</td><td>419.0</td><td>5.4663</td><td>248300.0</td></tr><tr><td>16.0</td><td>3424.0</td><td>698.0</td><td>1940.0</td><td>645.0</td><td>4.121</td><td>182100.0</td></tr><tr><td>16.0</td><td>1765.0</td><td>289.0</td><td>743.0</td><td>280.0</td><td>4.9744</td><td>209700.0</td></tr><tr><td>19.0</td><td>3866.0</td><td>775.0</td><td>1554.0</td><td>703.0</td><td>4.3281</td><td>220000.0</td></tr><tr><td>31.0</td><td>2366.0</td><td>383.0</td><td>1077.0</td><td>387.0</td><td>4.2992</td><td>174400.0</td></tr><tr><td>26.0</td><td>3859.0</td><td>513.0</td><td>1469.0</td><td>538.0</td><td>5.8683</td><td>220500.0</td></tr><tr><td>17.0</td><td>5481.0</td><td>1618.0</td><td>2957.0</td><td>1537.0</td><td>2.5707</td><td>171300.0</td></tr><tr><td>34.0</td><td>1796.0</td><td>428.0</td><td>918.0</td><td>424.0</td><td>2.875</td><td>161200.0</td></tr><tr><td>19.0</td><td>4819.0</td><td>1492.0</td><td>2572.0</td><td>1336.0</td><td>2.3393</td><td>118200.0</td></tr><tr><td>24.0</td><td>7879.0</td><td>1655.0</td><td>3898.0</td><td>1534.0</td><td>3.0897</td><td>187300.0</td></tr><tr><td>37.0</td><td>821.0</td><td>150.0</td><td>404.0</td><td>135.0</td><td>3.0125</td><td>130400.0</td></tr><tr><td>35.0</td><td>1878.0</td><td>454.0</td><td>991.0</td><td>409.0</td><td>2.4345</td><td>129700.0</td></tr><tr><td>38.0</td><td>3174.0</td><td>606.0</td><td>1557.0</td><td>619.0</td><td>3.5861</td><td>123600.0</td></tr><tr><td>34.0</td><td>2061.0</td><td>391.0</td><td>1169.0</td><td>400.0</td><td>3.5096</td><td>142000.0</td></tr><tr><td>32.0</td><td>1750.0</td><td>333.0</td><td>997.0</td><td>335.0</td><td>3.4784</td><td>154400.0</td></tr><tr><td>38.0</td><td>886.0</td><td>176.0</td><td>505.0</td><td>188.0</td><td>3.5938</td><td>125400.0</td></tr><tr><td>37.0</td><td>2192.0</td><td>455.0</td><td>1515.0</td><td>446.0</td><td>3.0588</td><td>120600.0</td></tr><tr><td>34.0</td><td>2328.0</td><td>444.0</td><td>1684.0</td><td>429.0</td><td>3.25</td><td>99600.0</td></tr><tr><td>33.0</td><td>3126.0</td><td>627.0</td><td>2300.0</td><td>623.0</td><td>3.2596</td><td>103000.0</td></tr><tr><td>19.0</td><td>2304.0</td><td>572.0</td><td>2010.0</td><td>556.0</td><td>2.2866</td><td>109900.0</td></tr><tr><td>8.0</td><td>2460.0</td><td>397.0</td><td>1784.0</td><td>390.0</td><td>4.5662</td><td>175500.0</td></tr><tr><td>5.0</td><td>3201.0</td><td>532.0</td><td>2061.0</td><td>536.0</td><td>5.0829</td><td>179400.0</td></tr><tr><td>10.0</td><td>901.0</td><td>163.0</td><td>698.0</td><td>167.0</td><td>4.6648</td><td>156100.0</td></tr><tr><td>15.0</td><td>5094.0</td><td>818.0</td><td>2118.0</td><td>758.0</td><td>5.3505</td><td>266600.0</td></tr><tr><td>14.0</td><td>1111.0</td><td>142.0</td><td>472.0</td><td>145.0</td><td>7.6344</td><td>290500.0</td></tr><tr><td>14.0</td><td>2796.0</td><td>476.0</td><td>1466.0</td><td>464.0</td><td>5.2489</td><td>213700.0</td></tr><tr><td>13.0</td><td>2087.0</td><td>313.0</td><td>1165.0</td><td>330.0</td><td>5.7789</td><td>227700.0</td></tr><tr><td>22.0</td><td>1028.0</td><td>148.0</td><td>523.0</td><td>152.0</td><td>6.0086</td><td>166900.0</td></tr><tr><td>37.0</td><td>1884.0</td><td>366.0</td><td>1052.0</td><td>353.0</td><td>3.175</td><td>66800.0</td></tr><tr><td>30.0</td><td>3474.0</td><td>735.0</td><td>1674.0</td><td>691.0</td><td>2.5863</td><td>98300.0</td></tr><tr><td>29.0</td><td>3375.0</td><td>795.0</td><td>1760.0</td><td>699.0</td><td>2.7028</td><td>92000.0</td></tr><tr><td>24.0</td><td>4663.0</td><td>1213.0</td><td>1851.0</td><td>1116.0</td><td>1.4418</td><td>103500.0</td></tr><tr><td>25.0</td><td>3750.0</td><td>781.0</td><td>1594.0</td><td>785.0</td><td>2.4167</td><td>104900.0</td></tr><tr><td>21.0</td><td>4624.0</td><td>852.0</td><td>2174.0</td><td>812.0</td><td>3.5255</td><td>132100.0</td></tr><tr><td>15.0</td><td>13814.0</td><td>2888.0</td><td>6583.0</td><td>2789.0</td><td>2.8247</td><td>150000.0</td></tr><tr><td>16.0</td><td>4677.0</td><td>581.0</td><td>1902.0</td><td>566.0</td><td>6.1834</td><td>335600.0</td></tr><tr><td>16.0</td><td>2852.0</td><td>435.0</td><td>1083.0</td><td>448.0</td><td>6.3761</td><td>296200.0</td></tr><tr><td>28.0</td><td>922.0</td><td>107.0</td><td>314.0</td><td>97.0</td><td>8.4721</td><td>342300.0</td></tr><tr><td>6.0</td><td>9518.0</td><td>1418.0</td><td>4413.0</td><td>1275.0</td><td>6.6012</td><td>314900.0</td></tr><tr><td>16.0</td><td>1332.0</td><td>196.0</td><td>640.0</td><td>193.0</td><td>6.0226</td><td>192900.0</td></tr><tr><td>13.0</td><td>6711.0</td><td>1256.0</td><td>3683.0</td><td>1220.0</td><td>4.5746</td><td>175700.0</td></tr><tr><td>6.0</td><td>6525.0</td><td>826.0</td><td>3146.0</td><td>806.0</td><td>9.2858</td><td>436100.0</td></tr><tr><td>8.0</td><td>2205.0</td><td>348.0</td><td>777.0</td><td>341.0</td><td>6.0266</td><td>177400.0</td></tr><tr><td>12.0</td><td>2880.0</td><td>406.0</td><td>1381.0</td><td>418.0</td><td>6.5412</td><td>254200.0</td></tr><tr><td>25.0</td><td>2504.0</td><td>345.0</td><td>1067.0</td><td>350.0</td><td>5.7416</td><td>243400.0</td></tr><tr><td>11.0</td><td>1802.0</td><td>440.0</td><td>630.0</td><td>428.0</td><td>2.0337</td><td>146700.0</td></tr><tr><td>23.0</td><td>2491.0</td><td>350.0</td><td>863.0</td><td>348.0</td><td>6.7196</td><td>306800.0</td></tr><tr><td>21.0</td><td>1824.0</td><td>447.0</td><td>962.0</td><td>431.0</td><td>2.7826</td><td>143800.0</td></tr><tr><td>16.0</td><td>7963.0</td><td>1881.0</td><td>3769.0</td><td>1804.0</td><td>2.9624</td><td>144700.0</td></tr><tr><td>43.0</td><td>3171.0</td><td>665.0</td><td>1534.0</td><td>625.0</td><td>3.141</td><td>141400.0</td></tr><tr><td>37.0</td><td>2979.0</td><td>557.0</td><td>1285.0</td><td>564.0</td><td>3.7368</td><td>152200.0</td></tr><tr><td>36.0</td><td>2297.0</td><td>418.0</td><td>1070.0</td><td>392.0</td><td>3.5192</td><td>144000.0</td></tr><tr><td>5.0</td><td>2878.0</td><td>785.0</td><td>1727.0</td><td>758.0</td><td>1.7179</td><td>132000.0</td></tr><tr><td>33.0</td><td>3880.0</td><td>770.0</td><td>2288.0</td><td>805.0</td><td>3.6848</td><td>140700.0</td></tr><tr><td>24.0</td><td>5474.0</td><td>955.0</td><td>3020.0</td><td>904.0</td><td>4.0813</td><td>137000.0</td></tr><tr><td>28.0</td><td>5274.0</td><td>991.0</td><td>3727.0</td><td>961.0</td><td>3.57</td><td>109800.0</td></tr><tr><td>9.0</td><td>3417.0</td><td>860.0</td><td>2521.0</td><td>828.0</td><td>3.02</td><td>158900.0</td></tr><tr><td>13.0</td><td>2132.0</td><td>425.0</td><td>1345.0</td><td>432.0</td><td>4.0</td><td>89300.0</td></tr><tr><td>11.0</td><td>1875.0</td><td>357.0</td><td>1014.0</td><td>386.0</td><td>4.375</td><td>115000.0</td></tr><tr><td>14.0</td><td>3464.0</td><td>683.0</td><td>2139.0</td><td>734.0</td><td>4.0668</td><td>137500.0</td></tr><tr><td>22.0</td><td>3362.0</td><td>630.0</td><td>1471.0</td><td>612.0</td><td>4.1442</td><td>303900.0</td></tr><tr><td>8.0</td><td>8806.0</td><td>1401.0</td><td>3159.0</td><td>1059.0</td><td>4.2155</td><td>247800.0</td></tr><tr><td>5.0</td><td>2329.0</td><td>542.0</td><td>1213.0</td><td>514.0</td><td>4.0298</td><td>225600.0</td></tr><tr><td>26.0</td><td>2756.0</td><td>422.0</td><td>1166.0</td><td>398.0</td><td>5.1354</td><td>181600.0</td></tr><tr><td>26.0</td><td>2074.0</td><td>356.0</td><td>1228.0</td><td>335.0</td><td>4.1154</td><td>160200.0</td></tr><tr><td>27.0</td><td>1710.0</td><td>282.0</td><td>1089.0</td><td>297.0</td><td>4.6793</td><td>151900.0</td></tr><tr><td>20.0</td><td>8052.0</td><td>1461.0</td><td>5094.0</td><td>1430.0</td><td>4.2241</td><td>139800.0</td></tr><tr><td>18.0</td><td>4747.0</td><td>846.0</td><td>3002.0</td><td>872.0</td><td>3.9076</td><td>152900.0</td></tr><tr><td>20.0</td><td>2029.0</td><td>357.0</td><td>1497.0</td><td>353.0</td><td>4.0089</td><td>132100.0</td></tr><tr><td>14.0</td><td>2355.0</td><td>406.0</td><td>1883.0</td><td>401.0</td><td>5.0311</td><td>152100.0</td></tr><tr><td>15.0</td><td>2206.0</td><td>648.0</td><td>2511.0</td><td>648.0</td><td>1.6348</td><td>93200.0</td></tr><tr><td>7.0</td><td>938.0</td><td>297.0</td><td>1187.0</td><td>282.0</td><td>1.2667</td><td>67500.0</td></tr><tr><td>36.0</td><td>1199.0</td><td>260.0</td><td>665.0</td><td>229.0</td><td>3.7065</td><td>62000.0</td></tr><tr><td>23.0</td><td>3967.0</td><td>766.0</td><td>1518.0</td><td>698.0</td><td>2.29</td><td>111800.0</td></tr><tr><td>28.0</td><td>3009.0</td><td>698.0</td><td>1200.0</td><td>626.0</td><td>1.3993</td><td>104600.0</td></tr><tr><td>21.0</td><td>3098.0</td><td>646.0</td><td>1351.0</td><td>614.0</td><td>2.598</td><td>106700.0</td></tr><tr><td>27.0</td><td>5484.0</td><td>1205.0</td><td>2645.0</td><td>1131.0</td><td>2.1927</td><td>116700.0</td></tr><tr><td>5.0</td><td>3471.0</td><td>530.0</td><td>1541.0</td><td>502.0</td><td>4.8083</td><td>347700.0</td></tr><tr><td>17.0</td><td>1800.0</td><td>312.0</td><td>891.0</td><td>281.0</td><td>7.0177</td><td>267600.0</td></tr><tr><td>14.0</td><td>3103.0</td><td>569.0</td><td>1704.0</td><td>539.0</td><td>3.7644</td><td>264700.0</td></tr><tr><td>16.0</td><td>4552.0</td><td>1166.0</td><td>2737.0</td><td>1051.0</td><td>2.25</td><td>136300.0</td></tr><tr><td>22.0</td><td>2427.0</td><td>390.0</td><td>1099.0</td><td>362.0</td><td>5.2323</td><td>167500.0</td></tr><tr><td>20.0</td><td>7746.0</td><td>2035.0</td><td>5370.0</td><td>1838.0</td><td>2.3762</td><td>98500.0</td></tr><tr><td>17.0</td><td>2385.0</td><td>372.0</td><td>1118.0</td><td>369.0</td><td>4.2813</td><td>169900.0</td></tr><tr><td>18.0</td><td>4393.0</td><td>642.0</td><td>2095.0</td><td>677.0</td><td>5.4786</td><td>223500.0</td></tr><tr><td>6.0</td><td>7916.0</td><td>1293.0</td><td>2741.0</td><td>1204.0</td><td>5.6436</td><td>278600.0</td></tr><tr><td>12.0</td><td>1840.0</td><td>254.0</td><td>580.0</td><td>234.0</td><td>6.7769</td><td>400000.0</td></tr><tr><td>18.0</td><td>917.0</td><td>121.0</td><td>388.0</td><td>131.0</td><td>6.3517</td><td>260100.0</td></tr><tr><td>19.0</td><td>3558.0</td><td>588.0</td><td>1439.0</td><td>578.0</td><td>4.625</td><td>211100.0</td></tr><tr><td>17.0</td><td>3430.0</td><td>425.0</td><td>1468.0</td><td>433.0</td><td>10.6186</td><td>429300.0</td></tr><tr><td>17.0</td><td>9911.0</td><td>1436.0</td><td>4763.0</td><td>1414.0</td><td>5.5882</td><td>194300.0</td></tr><tr><td>18.0</td><td>3593.0</td><td>661.0</td><td>1992.0</td><td>626.0</td><td>4.8295</td><td>165800.0</td></tr><tr><td>17.0</td><td>4814.0</td><td>1091.0</td><td>3013.0</td><td>1078.0</td><td>3.2369</td><td>167800.0</td></tr><tr><td>17.0</td><td>3039.0</td><td>555.0</td><td>1297.0</td><td>552.0</td><td>3.9531</td><td>178600.0</td></tr><tr><td>16.0</td><td>4046.0</td><td>731.0</td><td>1684.0</td><td>701.0</td><td>4.2312</td><td>197000.0</td></tr><tr><td>17.0</td><td>1885.0</td><td>292.0</td><td>771.0</td><td>301.0</td><td>5.6402</td><td>228600.0</td></tr><tr><td>25.0</td><td>1905.0</td><td>250.0</td><td>865.0</td><td>253.0</td><td>6.4797</td><td>249000.0</td></tr><tr><td>23.0</td><td>3309.0</td><td>401.0</td><td>1116.0</td><td>386.0</td><td>7.916</td><td>330600.0</td></tr><tr><td>17.0</td><td>1475.0</td><td>308.0</td><td>549.0</td><td>293.0</td><td>3.7167</td><td>180400.0</td></tr><tr><td>16.0</td><td>1561.0</td><td>378.0</td><td>574.0</td><td>350.0</td><td>3.0035</td><td>94600.0</td></tr><tr><td>37.0</td><td>1184.0</td><td>178.0</td><td>529.0</td><td>192.0</td><td>4.7941</td><td>161700.0</td></tr><tr><td>33.0</td><td>3535.0</td><td>683.0</td><td>1568.0</td><td>672.0</td><td>2.8097</td><td>158300.0</td></tr><tr><td>23.0</td><td>2556.0</td><td>662.0</td><td>1200.0</td><td>548.0</td><td>1.8899</td><td>147700.0</td></tr><tr><td>46.0</td><td>1887.0</td><td>359.0</td><td>795.0</td><td>358.0</td><td>3.25</td><td>159600.0</td></tr><tr><td>43.0</td><td>1718.0</td><td>344.0</td><td>826.0</td><td>336.0</td><td>2.7014</td><td>133700.0</td></tr><tr><td>36.0</td><td>2024.0</td><td>408.0</td><td>1030.0</td><td>390.0</td><td>3.8233</td><td>139800.0</td></tr><tr><td>35.0</td><td>2144.0</td><td>388.0</td><td>1003.0</td><td>383.0</td><td>3.0938</td><td>137300.0</td></tr><tr><td>29.0</td><td>2767.0</td><td>612.0</td><td>1437.0</td><td>587.0</td><td>2.8306</td><td>142900.0</td></tr><tr><td>34.0</td><td>2178.0</td><td>455.0</td><td>1193.0</td><td>446.0</td><td>3.1719</td><td>115300.0</td></tr><tr><td>27.0</td><td>3184.0</td><td>588.0</td><td>1763.0</td><td>571.0</td><td>3.5529</td><td>133900.0</td></tr><tr><td>35.0</td><td>3669.0</td><td>617.0</td><td>1694.0</td><td>585.0</td><td>3.9485</td><td>133900.0</td></tr><tr><td>35.0</td><td>1777.0</td><td>369.0</td><td>1158.0</td><td>353.0</td><td>3.4107</td><td>117000.0</td></tr><tr><td>8.0</td><td>831.0</td><td>158.0</td><td>740.0</td><td>154.0</td><td>5.3908</td><td>165500.0</td></tr><tr><td>21.0</td><td>991.0</td><td>210.0</td><td>695.0</td><td>203.0</td><td>3.625</td><td>144300.0</td></tr><tr><td>14.0</td><td>1689.0</td><td>555.0</td><td>1319.0</td><td>527.0</td><td>3.16</td><td>143800.0</td></tr><tr><td>35.0</td><td>3414.0</td><td>580.0</td><td>1761.0</td><td>522.0</td><td>3.9922</td><td>129800.0</td></tr><tr><td>19.0</td><td>1469.0</td><td>275.0</td><td>1010.0</td><td>292.0</td><td>3.5664</td><td>150400.0</td></tr><tr><td>15.0</td><td>1828.0</td><td>359.0</td><td>955.0</td><td>248.0</td><td>3.2174</td><td>165100.0</td></tr><tr><td>32.0</td><td>4227.0</td><td>785.0</td><td>2842.0</td><td>795.0</td><td>3.9646</td><td>137800.0</td></tr><tr><td>16.0</td><td>2168.0</td><td>343.0</td><td>1589.0</td><td>338.0</td><td>5.4863</td><td>153800.0</td></tr><tr><td>31.0</td><td>4911.0</td><td>861.0</td><td>2334.0</td><td>843.0</td><td>4.1958</td><td>160100.0</td></tr><tr><td>34.0</td><td>3928.0</td><td>686.0</td><td>2315.0</td><td>681.0</td><td>4.2851</td><td>144500.0</td></tr><tr><td>26.0</td><td>1563.0</td><td>286.0</td><td>1145.0</td><td>313.0</td><td>3.8615</td><td>139300.0</td></tr><tr><td>21.0</td><td>6034.0</td><td>1205.0</td><td>3795.0</td><td>1146.0</td><td>3.2633</td><td>129700.0</td></tr><tr><td>26.0</td><td>1919.0</td><td>345.0</td><td>1326.0</td><td>341.0</td><td>4.2679</td><td>131900.0</td></tr><tr><td>16.0</td><td>4683.0</td><td>929.0</td><td>3073.0</td><td>865.0</td><td>3.0495</td><td>98300.0</td></tr><tr><td>25.0</td><td>2185.0</td><td>370.0</td><td>1558.0</td><td>369.0</td><td>5.3072</td><td>132700.0</td></tr><tr><td>22.0</td><td>2101.0</td><td>399.0</td><td>1551.0</td><td>371.0</td><td>4.1518</td><td>136900.0</td></tr><tr><td>22.0</td><td>2172.0</td><td>563.0</td><td>2049.0</td><td>524.0</td><td>2.0159</td><td>139300.0</td></tr><tr><td>18.0</td><td>1215.0</td><td>320.0</td><td>1195.0</td><td>349.0</td><td>1.9875</td><td>114900.0</td></tr><tr><td>17.0</td><td>985.0</td><td>233.0</td><td>811.0</td><td>223.0</td><td>2.875</td><td>134500.0</td></tr><tr><td>36.0</td><td>2828.0</td><td>916.0</td><td>1762.0</td><td>736.0</td><td>1.4318</td><td>59600.0</td></tr><tr><td>21.0</td><td>2520.0</td><td>582.0</td><td>416.0</td><td>151.0</td><td>2.712</td><td>89000.0</td></tr><tr><td>27.0</td><td>1945.0</td><td>446.0</td><td>859.0</td><td>418.0</td><td>1.5203</td><td>126200.0</td></tr><tr><td>24.0</td><td>3912.0</td><td>809.0</td><td>1926.0</td><td>762.0</td><td>2.6875</td><td>116300.0</td></tr><tr><td>33.0</td><td>1575.0</td><td>326.0</td><td>879.0</td><td>282.0</td><td>2.5357</td><td>94400.0</td></tr><tr><td>17.0</td><td>2813.0</td><td>565.0</td><td>1345.0</td><td>488.0</td><td>2.5847</td><td>145300.0</td></tr><tr><td>4.0</td><td>5465.0</td><td>974.0</td><td>2844.0</td><td>950.0</td><td>4.4477</td><td>174800.0</td></tr><tr><td>24.0</td><td>2155.0</td><td>379.0</td><td>1158.0</td><td>360.0</td><td>4.7941</td><td>147500.0</td></tr><tr><td>12.0</td><td>8742.0</td><td>2114.0</td><td>4854.0</td><td>1957.0</td><td>2.8015</td><td>143500.0</td></tr><tr><td>11.0</td><td>7483.0</td><td>1276.0</td><td>3516.0</td><td>1261.0</td><td>4.0484</td><td>262500.0</td></tr><tr><td>17.0</td><td>1785.0</td><td>255.0</td><td>667.0</td><td>277.0</td><td>5.7382</td><td>278000.0</td></tr><tr><td>23.0</td><td>2023.0</td><td>309.0</td><td>678.0</td><td>340.0</td><td>7.0913</td><td>265400.0</td></tr><tr><td>24.0</td><td>830.0</td><td>190.0</td><td>279.0</td><td>196.0</td><td>1.9176</td><td>121100.0</td></tr><tr><td>17.0</td><td>2635.0</td><td>389.0</td><td>994.0</td><td>359.0</td><td>5.8966</td><td>261500.0</td></tr><tr><td>9.0</td><td>2470.0</td><td>417.0</td><td>904.0</td><td>427.0</td><td>4.4219</td><td>209200.0</td></tr><tr><td>16.0</td><td>1306.0</td><td>196.0</td><td>713.0</td><td>222.0</td><td>6.2683</td><td>180700.0</td></tr><tr><td>17.0</td><td>4754.0</td><td>877.0</td><td>2412.0</td><td>832.0</td><td>4.3548</td><td>192300.0</td></tr><tr><td>17.0</td><td>3939.0</td><td>550.0</td><td>1694.0</td><td>553.0</td><td>6.7927</td><td>234700.0</td></tr><tr><td>17.0</td><td>2247.0</td><td>340.0</td><td>973.0</td><td>318.0</td><td>5.5</td><td>222000.0</td></tr><tr><td>21.0</td><td>3787.0</td><td>492.0</td><td>1246.0</td><td>457.0</td><td>9.6023</td><td>391300.0</td></tr><tr><td>17.0</td><td>2524.0</td><td>332.0</td><td>771.0</td><td>317.0</td><td>8.7604</td><td>331800.0</td></tr><tr><td>34.0</td><td>1730.0</td><td>373.0</td><td>730.0</td><td>350.0</td><td>2.0284</td><td>161800.0</td></tr><tr><td>18.0</td><td>2269.0</td><td>682.0</td><td>1329.0</td><td>581.0</td><td>1.7951</td><td>161800.0</td></tr><tr><td>38.0</td><td>1549.0</td><td>288.0</td><td>636.0</td><td>278.0</td><td>3.2188</td><td>150500.0</td></tr><tr><td>24.0</td><td>1629.0</td><td>587.0</td><td>1012.0</td><td>488.0</td><td>1.7452</td><td>156800.0</td></tr><tr><td>34.0</td><td>2516.0</td><td>611.0</td><td>1317.0</td><td>594.0</td><td>2.2308</td><td>125900.0</td></tr><tr><td>34.0</td><td>1917.0</td><td>419.0</td><td>1181.0</td><td>426.0</td><td>3.0208</td><td>129200.0</td></tr><tr><td>33.0</td><td>3444.0</td><td>619.0</td><td>1884.0</td><td>582.0</td><td>3.7891</td><td>126700.0</td></tr><tr><td>31.0</td><td>2669.0</td><td>514.0</td><td>1626.0</td><td>499.0</td><td>3.1923</td><td>116900.0</td></tr><tr><td>21.0</td><td>1864.0</td><td>388.0</td><td>1498.0</td><td>389.0</td><td>3.8194</td><td>125700.0</td></tr><tr><td>11.0</td><td>2397.0</td><td>523.0</td><td>1566.0</td><td>514.0</td><td>3.8687</td><td>145200.0</td></tr><tr><td>9.0</td><td>521.0</td><td>111.0</td><td>491.0</td><td>110.0</td><td>5.1305</td><td>158900.0</td></tr><tr><td>9.0</td><td>1520.0</td><td>269.0</td><td>1250.0</td><td>265.0</td><td>4.8875</td><td>157700.0</td></tr><tr><td>13.0</td><td>705.0</td><td>149.0</td><td>718.0</td><td>155.0</td><td>4.4375</td><td>154900.0</td></tr><tr><td>41.0</td><td>2665.0</td><td>515.0</td><td>1664.0</td><td>512.0</td><td>2.375</td><td>113500.0</td></tr><tr><td>38.0</td><td>1481.0</td><td>317.0</td><td>1080.0</td><td>291.0</td><td>2.85</td><td>125800.0</td></tr><tr><td>36.0</td><td>3815.0</td><td>796.0</td><td>2945.0</td><td>728.0</td><td>2.0959</td><td>125000.0</td></tr><tr><td>29.0</td><td>4047.0</td><td>754.0</td><td>2353.0</td><td>730.0</td><td>4.0505</td><td>125000.0</td></tr><tr><td>33.0</td><td>3425.0</td><td>511.0</td><td>1528.0</td><td>479.0</td><td>5.6889</td><td>234600.0</td></tr><tr><td>30.0</td><td>4494.0</td><td>667.0</td><td>1883.0</td><td>680.0</td><td>5.766</td><td>186100.0</td></tr><tr><td>37.0</td><td>1326.0</td><td>234.0</td><td>612.0</td><td>240.0</td><td>4.125</td><td>160200.0</td></tr><tr><td>29.0</td><td>4168.0</td><td>742.0</td><td>2096.0</td><td>713.0</td><td>4.2204</td><td>169800.0</td></tr><tr><td>36.0</td><td>786.0</td><td>125.0</td><td>408.0</td><td>138.0</td><td>3.9167</td><td>189700.0</td></tr><tr><td>34.0</td><td>4325.0</td><td>1015.0</td><td>2609.0</td><td>979.0</td><td>2.8489</td><td>128300.0</td></tr><tr><td>33.0</td><td>905.0</td><td>205.0</td><td>989.0</td><td>222.0</td><td>2.7014</td><td>108200.0</td></tr><tr><td>25.0</td><td>1075.0</td><td>238.0</td><td>434.0</td><td>234.0</td><td>1.7472</td><td>94600.0</td></tr><tr><td>24.0</td><td>1088.0</td><td>268.0</td><td>1095.0</td><td>246.0</td><td>2.4191</td><td>107300.0</td></tr><tr><td>17.0</td><td>2724.0</td><td>567.0</td><td>2213.0</td><td>554.0</td><td>3.8529</td><td>147700.0</td></tr><tr><td>13.0</td><td>3435.0</td><td>708.0</td><td>1761.0</td><td>699.0</td><td>3.4792</td><td>107600.0</td></tr><tr><td>11.0</td><td>2879.0</td><td>679.0</td><td>2098.0</td><td>673.0</td><td>3.5125</td><td>142400.0</td></tr><tr><td>25.0</td><td>1268.0</td><td>282.0</td><td>991.0</td><td>299.0</td><td>3.0284</td><td>123600.0</td></tr><tr><td>18.0</td><td>1384.0</td><td>311.0</td><td>1429.0</td><td>287.0</td><td>1.3362</td><td>95000.0</td></tr><tr><td>17.0</td><td>2252.0</td><td>378.0</td><td>1776.0</td><td>365.0</td><td>4.6364</td><td>141100.0</td></tr><tr><td>16.0</td><td>1269.0</td><td>282.0</td><td>1609.0</td><td>298.0</td><td>2.6985</td><td>156500.0</td></tr><tr><td>5.0</td><td>2706.0</td><td>925.0</td><td>3148.0</td><td>855.0</td><td>1.7301</td><td>125000.0</td></tr><tr><td>17.0</td><td>2803.0</td><td>683.0</td><td>2768.0</td><td>676.0</td><td>1.7958</td><td>140400.0</td></tr><tr><td>5.0</td><td>3223.0</td><td>940.0</td><td>3284.0</td><td>854.0</td><td>1.4384</td><td>108800.0</td></tr><tr><td>21.0</td><td>4773.0</td><td>1047.0</td><td>337.0</td><td>130.0</td><td>3.9375</td><td>115000.0</td></tr><tr><td>16.0</td><td>4928.0</td><td>960.0</td><td>2132.0</td><td>853.0</td><td>2.7983</td><td>112500.0</td></tr><tr><td>17.0</td><td>1893.0</td><td>297.0</td><td>936.0</td><td>287.0</td><td>5.1842</td><td>157700.0</td></tr><tr><td>15.0</td><td>2994.0</td><td>522.0</td><td>1231.0</td><td>503.0</td><td>3.2024</td><td>180400.0</td></tr><tr><td>16.0</td><td>2546.0</td><td>429.0</td><td>1683.0</td><td>408.0</td><td>4.7426</td><td>160600.0</td></tr><tr><td>33.0</td><td>555.0</td><td>165.0</td><td>612.0</td><td>176.0</td><td>2.1786</td><td>137500.0</td></tr><tr><td>17.0</td><td>6817.0</td><td>1632.0</td><td>4526.0</td><td>1474.0</td><td>2.6152</td><td>135300.0</td></tr><tr><td>32.0</td><td>2474.0</td><td>499.0</td><td>1224.0</td><td>461.0</td><td>2.7216</td><td>146300.0</td></tr><tr><td>21.0</td><td>4578.0</td><td>927.0</td><td>2818.0</td><td>900.0</td><td>3.1458</td><td>187700.0</td></tr><tr><td>12.0</td><td>2453.0</td><td>599.0</td><td>1251.0</td><td>529.0</td><td>2.4122</td><td>127000.0</td></tr><tr><td>31.0</td><td>2055.0</td><td>473.0</td><td>1326.0</td><td>427.0</td><td>3.0915</td><td>139900.0</td></tr><tr><td>17.0</td><td>5565.0</td><td>1237.0</td><td>3004.0</td><td>1139.0</td><td>3.0054</td><td>142300.0</td></tr><tr><td>8.0</td><td>2756.0</td><td>343.0</td><td>1045.0</td><td>340.0</td><td>8.5957</td><td>444100.0</td></tr><tr><td>4.0</td><td>2271.0</td><td>578.0</td><td>926.0</td><td>391.0</td><td>3.6437</td><td>210100.0</td></tr><tr><td>15.0</td><td>1095.0</td><td>158.0</td><td>361.0</td><td>176.0</td><td>6.8099</td><td>328200.0</td></tr><tr><td>14.0</td><td>6665.0</td><td>1231.0</td><td>2026.0</td><td>1001.0</td><td>5.09</td><td>268500.0</td></tr><tr><td>17.0</td><td>2863.0</td><td>665.0</td><td>715.0</td><td>467.0</td><td>2.6048</td><td>148200.0</td></tr><tr><td>5.0</td><td>5870.0</td><td>977.0</td><td>1917.0</td><td>842.0</td><td>5.1998</td><td>294100.0</td></tr><tr><td>25.0</td><td>2120.0</td><td>381.0</td><td>588.0</td><td>359.0</td><td>3.1187</td><td>169400.0</td></tr><tr><td>4.0</td><td>9153.0</td><td>1866.0</td><td>3775.0</td><td>1698.0</td><td>4.955</td><td>241500.0</td></tr><tr><td>4.0</td><td>6242.0</td><td>1258.0</td><td>2211.0</td><td>1116.0</td><td>4.25</td><td>281600.0</td></tr><tr><td>5.0</td><td>2234.0</td><td>256.0</td><td>894.0</td><td>253.0</td><td>10.3354</td><td>477600.0</td></tr><tr><td>36.0</td><td>2028.0</td><td>349.0</td><td>820.0</td><td>352.0</td><td>3.9828</td><td>168900.0</td></tr><tr><td>31.0</td><td>2550.0</td><td>395.0</td><td>1017.0</td><td>405.0</td><td>5.1488</td><td>181000.0</td></tr><tr><td>23.0</td><td>2698.0</td><td>410.0</td><td>1094.0</td><td>411.0</td><td>5.1782</td><td>195100.0</td></tr><tr><td>26.0</td><td>3725.0</td><td>623.0</td><td>1516.0</td><td>627.0</td><td>4.7143</td><td>268300.0</td></tr><tr><td>22.0</td><td>922.0</td><td>240.0</td><td>1524.0</td><td>235.0</td><td>1.6815</td><td>218800.0</td></tr><tr><td>38.0</td><td>3779.0</td><td>614.0</td><td>1495.0</td><td>614.0</td><td>4.3529</td><td>184000.0</td></tr><tr><td>38.0</td><td>1130.0</td><td>228.0</td><td>699.0</td><td>241.0</td><td>2.65</td><td>167600.0</td></tr><tr><td>34.0</td><td>2245.0</td><td>394.0</td><td>1849.0</td><td>429.0</td><td>3.5446</td><td>185500.0</td></tr><tr><td>42.0</td><td>1827.0</td><td>378.0</td><td>880.0</td><td>380.0</td><td>2.5125</td><td>176600.0</td></tr><tr><td>14.0</td><td>2523.0</td><td>545.0</td><td>1297.0</td><td>525.0</td><td>2.3886</td><td>138100.0</td></tr><tr><td>9.0</td><td>3464.0</td><td>749.0</td><td>1687.0</td><td>645.0</td><td>3.3026</td><td>119100.0</td></tr><tr><td>37.0</td><td>2690.0</td><td>549.0</td><td>1219.0</td><td>524.0</td><td>2.3148</td><td>154200.0</td></tr><tr><td>31.0</td><td>2036.0</td><td>501.0</td><td>1263.0</td><td>442.0</td><td>2.5583</td><td>120700.0</td></tr><tr><td>14.0</td><td>3073.0</td><td>851.0</td><td>2000.0</td><td>782.0</td><td>2.3824</td><td>144700.0</td></tr><tr><td>37.0</td><td>1042.0</td><td>205.0</td><td>589.0</td><td>208.0</td><td>2.6629</td><td>116900.0</td></tr><tr><td>18.0</td><td>2968.0</td><td>656.0</td><td>1149.0</td><td>581.0</td><td>2.6452</td><td>154200.0</td></tr><tr><td>18.0</td><td>1758.0</td><td>286.0</td><td>987.0</td><td>277.0</td><td>4.6875</td><td>141800.0</td></tr><tr><td>39.0</td><td>2754.0</td><td>652.0</td><td>2263.0</td><td>619.0</td><td>2.2454</td><td>89600.0</td></tr><tr><td>36.0</td><td>2448.0</td><td>475.0</td><td>1268.0</td><td>450.0</td><td>2.5682</td><td>109100.0</td></tr><tr><td>26.0</td><td>4151.0</td><td>823.0</td><td>2822.0</td><td>697.0</td><td>2.8372</td><td>123400.0</td></tr><tr><td>14.0</td><td>2763.0</td><td>456.0</td><td>1914.0</td><td>465.0</td><td>4.1645</td><td>143000.0</td></tr><tr><td>29.0</td><td>1429.0</td><td>293.0</td><td>1091.0</td><td>317.0</td><td>3.4609</td><td>118000.0</td></tr><tr><td>28.0</td><td>1485.0</td><td>275.0</td><td>820.0</td><td>283.0</td><td>4.069</td><td>153300.0</td></tr><tr><td>20.0</td><td>2192.0</td><td>406.0</td><td>1766.0</td><td>393.0</td><td>4.0921</td><td>135000.0</td></tr><tr><td>18.0</td><td>1475.0</td><td>267.0</td><td>1149.0</td><td>268.0</td><td>5.0827</td><td>142200.0</td></tr><tr><td>35.0</td><td>3200.0</td><td>725.0</td><td>1723.0</td><td>610.0</td><td>1.8977</td><td>95600.0</td></tr><tr><td>28.0</td><td>2758.0</td><td>623.0</td><td>2179.0</td><td>631.0</td><td>2.3814</td><td>112300.0</td></tr><tr><td>12.0</td><td>4131.0</td><td>891.0</td><td>2272.0</td><td>840.0</td><td>3.4701</td><td>204900.0</td></tr><tr><td>38.0</td><td>1486.0</td><td>269.0</td><td>745.0</td><td>295.0</td><td>4.6477</td><td>150400.0</td></tr><tr><td>32.0</td><td>5135.0</td><td>1025.0</td><td>2152.0</td><td>944.0</td><td>4.1325</td><td>172800.0</td></tr><tr><td>30.0</td><td>2873.0</td><td>774.0</td><td>1593.0</td><td>731.0</td><td>2.24</td><td>129500.0</td></tr><tr><td>40.0</td><td>1706.0</td><td>322.0</td><td>796.0</td><td>303.0</td><td>3.5583</td><td>154900.0</td></tr><tr><td>37.0</td><td>2372.0</td><td>444.0</td><td>1056.0</td><td>419.0</td><td>3.7583</td><td>145500.0</td></tr><tr><td>37.0</td><td>2303.0</td><td>379.0</td><td>1026.0</td><td>357.0</td><td>3.455</td><td>156900.0</td></tr><tr><td>19.0</td><td>5016.0</td><td>1173.0</td><td>2750.0</td><td>1081.0</td><td>2.7838</td><td>155900.0</td></tr><tr><td>22.0</td><td>5016.0</td><td>1331.0</td><td>3222.0</td><td>1196.0</td><td>2.1441</td><td>135500.0</td></tr><tr><td>10.0</td><td>1686.0</td><td>414.0</td><td>1000.0</td><td>391.0</td><td>2.1765</td><td>128400.0</td></tr><tr><td>18.0</td><td>2602.0</td><td>551.0</td><td>1042.0</td><td>550.0</td><td>1.9267</td><td>67500.0</td></tr><tr><td>21.0</td><td>1779.0</td><td>466.0</td><td>1327.0</td><td>488.0</td><td>1.6007</td><td>96200.0</td></tr><tr><td>17.0</td><td>2961.0</td><td>634.0</td><td>1911.0</td><td>615.0</td><td>2.5859</td><td>131400.0</td></tr><tr><td>14.0</td><td>1527.0</td><td>357.0</td><td>1224.0</td><td>363.0</td><td>2.7361</td><td>93600.0</td></tr><tr><td>9.0</td><td>3648.0</td><td>895.0</td><td>3293.0</td><td>840.0</td><td>3.0992</td><td>142600.0</td></tr><tr><td>28.0</td><td>1777.0</td><td>307.0</td><td>721.0</td><td>259.0</td><td>3.6343</td><td>79800.0</td></tr><tr><td>34.0</td><td>45.0</td><td>11.0</td><td>39.0</td><td>14.0</td><td>3.0625</td><td>500001.0</td></tr><tr><td>23.0</td><td>3862.0</td><td>699.0</td><td>2082.0</td><td>652.0</td><td>3.154</td><td>115700.0</td></tr><tr><td>20.0</td><td>3111.0</td><td>563.0</td><td>1453.0</td><td>538.0</td><td>3.3365</td><td>122800.0</td></tr><tr><td>6.0</td><td>1771.0</td><td>293.0</td><td>935.0</td><td>279.0</td><td>4.065</td><td>148200.0</td></tr><tr><td>14.0</td><td>3337.0</td><td>571.0</td><td>1385.0</td><td>512.0</td><td>4.15</td><td>272200.0</td></tr><tr><td>19.0</td><td>2629.0</td><td>494.0</td><td>1444.0</td><td>503.0</td><td>3.5462</td><td>156800.0</td></tr><tr><td>15.0</td><td>1497.0</td><td>250.0</td><td>827.0</td><td>239.0</td><td>4.3846</td><td>154200.0</td></tr><tr><td>11.0</td><td>1430.0</td><td>292.0</td><td>921.0</td><td>294.0</td><td>4.2357</td><td>160900.0</td></tr><tr><td>17.0</td><td>8466.0</td><td>2628.0</td><td>7014.0</td><td>2267.0</td><td>2.1437</td><td>113700.0</td></tr><tr><td>37.0</td><td>1060.0</td><td>268.0</td><td>823.0</td><td>229.0</td><td>1.8363</td><td>145500.0</td></tr><tr><td>33.0</td><td>674.0</td><td>208.0</td><td>565.0</td><td>188.0</td><td>1.875</td><td>114300.0</td></tr><tr><td>31.0</td><td>1832.0</td><td>444.0</td><td>1669.0</td><td>463.0</td><td>2.2146</td><td>116700.0</td></tr><tr><td>31.0</td><td>1356.0</td><td>324.0</td><td>1301.0</td><td>331.0</td><td>2.5331</td><td>115100.0</td></tr><tr><td>28.0</td><td>2094.0</td><td>585.0</td><td>1556.0</td><td>563.0</td><td>2.2</td><td>127700.0</td></tr><tr><td>23.0</td><td>3792.0</td><td>624.0</td><td>1988.0</td><td>658.0</td><td>4.7566</td><td>178300.0</td></tr><tr><td>23.0</td><td>3400.0</td><td>501.0</td><td>1383.0</td><td>488.0</td><td>4.9844</td><td>249100.0</td></tr><tr><td>10.0</td><td>2577.0</td><td>347.0</td><td>1193.0</td><td>365.0</td><td>6.53</td><td>264100.0</td></tr><tr><td>18.0</td><td>1339.0</td><td>284.0</td><td>761.0</td><td>290.0</td><td>5.3074</td><td>137200.0</td></tr><tr><td>17.0</td><td>987.0</td><td>142.0</td><td>463.0</td><td>152.0</td><td>5.8747</td><td>229300.0</td></tr><tr><td>15.0</td><td>3023.0</td><td>623.0</td><td>1283.0</td><td>559.0</td><td>3.3724</td><td>137900.0</td></tr><tr><td>10.0</td><td>2296.0</td><td>450.0</td><td>818.0</td><td>405.0</td><td>4.3424</td><td>160600.0</td></tr><tr><td>5.0</td><td>5659.0</td><td>931.0</td><td>2565.0</td><td>902.0</td><td>6.1949</td><td>238700.0</td></tr><tr><td>3.0</td><td>17466.0</td><td>3336.0</td><td>7644.0</td><td>2895.0</td><td>5.4584</td><td>246500.0</td></tr><tr><td>5.0</td><td>14944.0</td><td>2490.0</td><td>6600.0</td><td>2407.0</td><td>6.0857</td><td>308300.0</td></tr><tr><td>9.0</td><td>1547.0</td><td>218.0</td><td>683.0</td><td>231.0</td><td>7.5604</td><td>327900.0</td></tr><tr><td>16.0</td><td>1653.0</td><td>228.0</td><td>690.0</td><td>224.0</td><td>6.5853</td><td>248400.0</td></tr><tr><td>7.0</td><td>13703.0</td><td>2352.0</td><td>4446.0</td><td>1856.0</td><td>6.4335</td><td>260600.0</td></tr><tr><td>10.0</td><td>5177.0</td><td>856.0</td><td>2190.0</td><td>816.0</td><td>5.9734</td><td>271700.0</td></tr><tr><td>25.0</td><td>2963.0</td><td>552.0</td><td>1162.0</td><td>556.0</td><td>3.625</td><td>184500.0</td></tr><tr><td>21.0</td><td>2919.0</td><td>496.0</td><td>984.0</td><td>443.0</td><td>4.625</td><td>222800.0</td></tr><tr><td>31.0</td><td>1070.0</td><td>155.0</td><td>426.0</td><td>153.0</td><td>6.1628</td><td>219200.0</td></tr><tr><td>25.0</td><td>3911.0</td><td>849.0</td><td>1580.0</td><td>767.0</td><td>2.7778</td><td>184100.0</td></tr><tr><td>27.0</td><td>1221.0</td><td>254.0</td><td>606.0</td><td>259.0</td><td>3.0833</td><td>155400.0</td></tr><tr><td>20.0</td><td>2547.0</td><td>785.0</td><td>1199.0</td><td>643.0</td><td>1.7743</td><td>140300.0</td></tr><tr><td>18.0</td><td>1704.0</td><td>596.0</td><td>1639.0</td><td>548.0</td><td>1.7391</td><td>125000.0</td></tr><tr><td>20.0</td><td>1989.0</td><td>508.0</td><td>1452.0</td><td>462.0</td><td>2.0077</td><td>118300.0</td></tr><tr><td>16.0</td><td>1111.0</td><td>328.0</td><td>930.0</td><td>303.0</td><td>1.2347</td><td>128100.0</td></tr><tr><td>15.0</td><td>1821.0</td><td>516.0</td><td>1385.0</td><td>439.0</td><td>2.5101</td><td>95300.0</td></tr><tr><td>33.0</td><td>3260.0</td><td>673.0</td><td>1784.0</td><td>666.0</td><td>3.5078</td><td>126500.0</td></tr><tr><td>26.0</td><td>2359.0</td><td>622.0</td><td>2067.0</td><td>581.0</td><td>1.8103</td><td>124700.0</td></tr><tr><td>36.0</td><td>3331.0</td><td>643.0</td><td>1903.0</td><td>622.0</td><td>3.6974</td><td>122000.0</td></tr><tr><td>36.0</td><td>1158.0</td><td>218.0</td><td>619.0</td><td>233.0</td><td>3.6125</td><td>122500.0</td></tr><tr><td>19.0</td><td>2935.0</td><td>763.0</td><td>1953.0</td><td>720.0</td><td>1.4254</td><td>111300.0</td></tr><tr><td>27.0</td><td>2204.0</td><td>598.0</td><td>1656.0</td><td>521.0</td><td>1.4821</td><td>86200.0</td></tr><tr><td>37.0</td><td>2176.0</td><td>418.0</td><td>1301.0</td><td>375.0</td><td>2.875</td><td>98900.0</td></tr><tr><td>36.0</td><td>2103.0</td><td>390.0</td><td>1279.0</td><td>392.0</td><td>2.4135</td><td>97000.0</td></tr><tr><td>36.0</td><td>1571.0</td><td>284.0</td><td>1001.0</td><td>268.0</td><td>3.6875</td><td>111400.0</td></tr><tr><td>31.0</td><td>2558.0</td><td>487.0</td><td>1938.0</td><td>492.0</td><td>3.4875</td><td>117000.0</td></tr><tr><td>26.0</td><td>3071.0</td><td>615.0</td><td>2156.0</td><td>568.0</td><td>2.9318</td><td>112400.0</td></tr><tr><td>19.0</td><td>3635.0</td><td>1078.0</td><td>3127.0</td><td>1098.0</td><td>1.324</td><td>122600.0</td></tr><tr><td>31.0</td><td>3008.0</td><td>764.0</td><td>2088.0</td><td>757.0</td><td>2.5662</td><td>118200.0</td></tr><tr><td>43.0</td><td>1004.0</td><td>236.0</td><td>839.0</td><td>235.0</td><td>2.81</td><td>103400.0</td></tr><tr><td>28.0</td><td>2296.0</td><td>603.0</td><td>1277.0</td><td>550.0</td><td>2.3562</td><td>123800.0</td></tr><tr><td>17.0</td><td>2633.0</td><td>712.0</td><td>1487.0</td><td>694.0</td><td>2.5392</td><td>147000.0</td></tr><tr><td>38.0</td><td>917.0</td><td>256.0</td><td>494.0</td><td>233.0</td><td>1.9241</td><td>150000.0</td></tr><tr><td>11.0</td><td>1651.0</td><td>533.0</td><td>947.0</td><td>515.0</td><td>1.6806</td><td>141700.0</td></tr><tr><td>33.0</td><td>2891.0</td><td>793.0</td><td>1607.0</td><td>754.0</td><td>2.1281</td><td>139800.0</td></tr><tr><td>30.0</td><td>2504.0</td><td>559.0</td><td>1827.0</td><td>490.0</td><td>2.6146</td><td>159400.0</td></tr><tr><td>28.0</td><td>2080.0</td><td>427.0</td><td>1266.0</td><td>434.0</td><td>2.2788</td><td>146300.0</td></tr><tr><td>36.0</td><td>1674.0</td><td>309.0</td><td>818.0</td><td>307.0</td><td>3.4773</td><td>150400.0</td></tr><tr><td>28.0</td><td>2468.0</td><td>506.0</td><td>1353.0</td><td>522.0</td><td>3.0771</td><td>158600.0</td></tr><tr><td>16.0</td><td>5192.0</td><td>1381.0</td><td>3261.0</td><td>1321.0</td><td>2.2685</td><td>151900.0</td></tr><tr><td>27.0</td><td>2264.0</td><td>525.0</td><td>1485.0</td><td>468.0</td><td>3.3514</td><td>149100.0</td></tr><tr><td>24.0</td><td>1901.0</td><td>490.0</td><td>1334.0</td><td>476.0</td><td>2.2544</td><td>121900.0</td></tr><tr><td>8.0</td><td>2888.0</td><td>662.0</td><td>2441.0</td><td>683.0</td><td>2.7048</td><td>153000.0</td></tr><tr><td>30.0</td><td>144.0</td><td>52.0</td><td>220.0</td><td>48.0</td><td>2.3929</td><td>134400.0</td></tr><tr><td>22.0</td><td>2128.0</td><td>477.0</td><td>1420.0</td><td>450.0</td><td>3.2687</td><td>131000.0</td></tr><tr><td>9.0</td><td>6298.0</td><td>1512.0</td><td>4451.0</td><td>1456.0</td><td>2.569</td><td>88300.0</td></tr><tr><td>16.0</td><td>1347.0</td><td>327.0</td><td>271.0</td><td>91.0</td><td>4.0</td><td>87500.0</td></tr><tr><td>24.0</td><td>6260.0</td><td>1271.0</td><td>3132.0</td><td>1189.0</td><td>2.5156</td><td>103000.0</td></tr><tr><td>13.0</td><td>1974.0</td><td>426.0</td><td>1276.0</td><td>408.0</td><td>1.972</td><td>90500.0</td></tr><tr><td>13.0</td><td>3958.0</td><td>865.0</td><td>1981.0</td><td>840.0</td><td>3.4764</td><td>137500.0</td></tr><tr><td>9.0</td><td>5685.0</td><td>1442.0</td><td>3773.0</td><td>1250.0</td><td>3.0426</td><td>129900.0</td></tr><tr><td>11.0</td><td>567.0</td><td>184.0</td><td>620.0</td><td>163.0</td><td>2.5284</td><td>122500.0</td></tr><tr><td>32.0</td><td>1713.0</td><td>321.0</td><td>891.0</td><td>286.0</td><td>3.1429</td><td>171600.0</td></tr><tr><td>21.0</td><td>2876.0</td><td>539.0</td><td>1387.0</td><td>499.0</td><td>3.8292</td><td>177000.0</td></tr><tr><td>18.0</td><td>3215.0</td><td>588.0</td><td>1618.0</td><td>509.0</td><td>4.6028</td><td>216800.0</td></tr><tr><td>16.0</td><td>2175.0</td><td>327.0</td><td>1037.0</td><td>326.0</td><td>5.1909</td><td>201400.0</td></tr><tr><td>23.0</td><td>1125.0</td><td>273.0</td><td>687.0</td><td>308.0</td><td>2.3182</td><td>268800.0</td></tr><tr><td>9.0</td><td>2012.0</td><td>316.0</td><td>802.0</td><td>289.0</td><td>6.5706</td><td>255700.0</td></tr><tr><td>16.0</td><td>2005.0</td><td>266.0</td><td>827.0</td><td>270.0</td><td>7.0546</td><td>282200.0</td></tr><tr><td>16.0</td><td>1989.0</td><td>290.0</td><td>814.0</td><td>291.0</td><td>6.2715</td><td>255100.0</td></tr><tr><td>15.0</td><td>4138.0</td><td>636.0</td><td>2001.0</td><td>677.0</td><td>4.8419</td><td>264000.0</td></tr><tr><td>7.0</td><td>6100.0</td><td>1185.0</td><td>2710.0</td><td>1040.0</td><td>5.5673</td><td>288200.0</td></tr><tr><td>36.0</td><td>2163.0</td><td>367.0</td><td>915.0</td><td>360.0</td><td>4.7188</td><td>174100.0</td></tr><tr><td>15.0</td><td>666.0</td><td>152.0</td><td>247.0</td><td>164.0</td><td>2.15</td><td>131300.0</td></tr><tr><td>36.0</td><td>1936.0</td><td>345.0</td><td>861.0</td><td>343.0</td><td>3.8333</td><td>170000.0</td></tr><tr><td>36.0</td><td>1529.0</td><td>266.0</td><td>683.0</td><td>260.0</td><td>4.0982</td><td>171200.0</td></tr><tr><td>20.0</td><td>2183.0</td><td>534.0</td><td>999.0</td><td>496.0</td><td>2.8631</td><td>169700.0</td></tr><tr><td>28.0</td><td>1708.0</td><td>393.0</td><td>816.0</td><td>393.0</td><td>2.9881</td><td>165300.0</td></tr><tr><td>38.0</td><td>2065.0</td><td>374.0</td><td>812.0</td><td>343.0</td><td>3.125</td><td>216500.0</td></tr><tr><td>31.0</td><td>3062.0</td><td>596.0</td><td>1263.0</td><td>539.0</td><td>3.0875</td><td>291500.0</td></tr><tr><td>44.0</td><td>1139.0</td><td>214.0</td><td>470.0</td><td>217.0</td><td>3.5481</td><td>203100.0</td></tr><tr><td>43.0</td><td>3889.0</td><td>711.0</td><td>1466.0</td><td>663.0</td><td>3.5529</td><td>223000.0</td></tr><tr><td>31.0</td><td>2567.0</td><td>624.0</td><td>1255.0</td><td>582.0</td><td>2.5909</td><td>159100.0</td></tr><tr><td>31.0</td><td>1235.0</td><td>387.0</td><td>816.0</td><td>397.0</td><td>1.5517</td><td>122500.0</td></tr><tr><td>10.0</td><td>1922.0</td><td>577.0</td><td>1595.0</td><td>545.0</td><td>1.5208</td><td>118800.0</td></tr><tr><td>30.0</td><td>1899.0</td><td>546.0</td><td>1620.0</td><td>493.0</td><td>1.6034</td><td>84400.0</td></tr><tr><td>28.0</td><td>1220.0</td><td>391.0</td><td>1286.0</td><td>396.0</td><td>1.2286</td><td>105000.0</td></tr><tr><td>24.0</td><td>1245.0</td><td>376.0</td><td>1230.0</td><td>362.0</td><td>1.875</td><td>95000.0</td></tr><tr><td>20.0</td><td>1701.0</td><td>503.0</td><td>1482.0</td><td>465.0</td><td>1.6789</td><td>95500.0</td></tr><tr><td>23.0</td><td>3130.0</td><td>779.0</td><td>2472.0</td><td>744.0</td><td>2.32</td><td>93200.0</td></tr><tr><td>26.0</td><td>3114.0</td><td>686.0</td><td>1948.0</td><td>660.0</td><td>2.8942</td><td>124100.0</td></tr><tr><td>39.0</td><td>1273.0</td><td>246.0</td><td>770.0</td><td>242.0</td><td>2.0938</td><td>102500.0</td></tr><tr><td>33.0</td><td>1096.0</td><td>240.0</td><td>716.0</td><td>224.0</td><td>1.6944</td><td>111800.0</td></tr><tr><td>29.0</td><td>2238.0</td><td>523.0</td><td>2061.0</td><td>504.0</td><td>2.5559</td><td>96800.0</td></tr><tr><td>12.0</td><td>3375.0</td><td>945.0</td><td>2357.0</td><td>808.0</td><td>1.5</td><td>106300.0</td></tr><tr><td>22.0</td><td>2409.0</td><td>582.0</td><td>1887.0</td><td>578.0</td><td>1.4089</td><td>94200.0</td></tr><tr><td>20.0</td><td>1102.0</td><td>205.0</td><td>852.0</td><td>217.0</td><td>3.1833</td><td>108300.0</td></tr><tr><td>18.0</td><td>1645.0</td><td>430.0</td><td>1221.0</td><td>410.0</td><td>1.3269</td><td>108000.0</td></tr><tr><td>30.0</td><td>2662.0</td><td>653.0</td><td>1997.0</td><td>605.0</td><td>2.8089</td><td>120600.0</td></tr><tr><td>29.0</td><td>1792.0</td><td>449.0</td><td>1650.0</td><td>396.0</td><td>2.2201</td><td>100000.0</td></tr><tr><td>20.0</td><td>2569.0</td><td>737.0</td><td>2341.0</td><td>705.0</td><td>2.0114</td><td>104900.0</td></tr><tr><td>37.0</td><td>1157.0</td><td>332.0</td><td>983.0</td><td>306.0</td><td>2.0972</td><td>117000.0</td></tr><tr><td>31.0</td><td>2051.0</td><td>549.0</td><td>1581.0</td><td>538.0</td><td>2.052</td><td>108900.0</td></tr><tr><td>46.0</td><td>844.0</td><td>147.0</td><td>423.0</td><td>161.0</td><td>3.375</td><td>136300.0</td></tr><tr><td>38.0</td><td>833.0</td><td>206.0</td><td>570.0</td><td>182.0</td><td>1.8333</td><td>127100.0</td></tr><tr><td>25.0</td><td>3509.0</td><td>985.0</td><td>2359.0</td><td>899.0</td><td>2.6296</td><td>150000.0</td></tr><tr><td>20.0</td><td>1445.0</td><td>323.0</td><td>573.0</td><td>334.0</td><td>2.619</td><td>145800.0</td></tr><tr><td>38.0</td><td>2095.0</td><td>536.0</td><td>1240.0</td><td>550.0</td><td>2.7218</td><td>145900.0</td></tr><tr><td>30.0</td><td>3171.0</td><td>862.0</td><td>2126.0</td><td>800.0</td><td>2.507</td><td>142700.0</td></tr><tr><td>24.0</td><td>3613.0</td><td>973.0</td><td>2002.0</td><td>931.0</td><td>1.947</td><td>147500.0</td></tr><tr><td>20.0</td><td>1999.0</td><td>651.0</td><td>1302.0</td><td>592.0</td><td>1.6321</td><td>57500.0</td></tr><tr><td>33.0</td><td>620.0</td><td>161.0</td><td>420.0</td><td>164.0</td><td>1.8417</td><td>150000.0</td></tr><tr><td>27.0</td><td>2920.0</td><td>770.0</td><td>1935.0</td><td>746.0</td><td>2.4148</td><td>67500.0</td></tr><tr><td>37.0</td><td>1925.0</td><td>428.0</td><td>1344.0</td><td>426.0</td><td>2.4866</td><td>129700.0</td></tr><tr><td>34.0</td><td>1576.0</td><td>364.0</td><td>1153.0</td><td>381.0</td><td>2.1955</td><td>129700.0</td></tr><tr><td>23.0</td><td>1157.0</td><td>309.0</td><td>640.0</td><td>313.0</td><td>2.1548</td><td>118800.0</td></tr><tr><td>21.0</td><td>1945.0</td><td>430.0</td><td>1335.0</td><td>419.0</td><td>3.6467</td><td>113000.0</td></tr><tr><td>12.0</td><td>2565.0</td><td>567.0</td><td>1785.0</td><td>545.0</td><td>3.0273</td><td>135300.0</td></tr><tr><td>23.0</td><td>1817.0</td><td>323.0</td><td>1371.0</td><td>327.0</td><td>3.6736</td><td>139500.0</td></tr><tr><td>17.0</td><td>444.0</td><td>83.0</td><td>357.0</td><td>87.0</td><td>5.1478</td><td>138900.0</td></tr><tr><td>10.0</td><td>2198.0</td><td>368.0</td><td>1645.0</td><td>350.0</td><td>4.5547</td><td>160700.0</td></tr><tr><td>8.0</td><td>6533.0</td><td>1217.0</td><td>4797.0</td><td>1177.0</td><td>3.9583</td><td>144400.0</td></tr><tr><td>6.0</td><td>5110.0</td><td>1044.0</td><td>1938.0</td><td>724.0</td><td>3.1917</td><td>112800.0</td></tr><tr><td>22.0</td><td>4397.0</td><td>931.0</td><td>1145.0</td><td>445.0</td><td>4.5268</td><td>108400.0</td></tr><tr><td>24.0</td><td>4144.0</td><td>826.0</td><td>2127.0</td><td>772.0</td><td>2.5172</td><td>96000.0</td></tr><tr><td>6.0</td><td>1868.0</td><td>289.0</td><td>750.0</td><td>247.0</td><td>4.3833</td><td>307600.0</td></tr></tbody></table></div>"
      ]
     },
     "metadata": {},
     "output_type": "display_data"
    }
   ],
   "source": [
    "# File location and type\n",
    "file_location = \"/FileStore/tables/california_housing_train.csv\"\n",
    "file_type = \"csv\"\n",
    "\n",
    "# CSV options\n",
    "infer_schema = \"true\"\n",
    "first_row_is_header = \"true\"\n",
    "delimiter = \",\"\n",
    "\n",
    "# The applied options are for CSV files. For other file types, these will be ignored.\n",
    "df = spark.read.format(file_type) \\\n",
    "  .option(\"inferSchema\", infer_schema) \\\n",
    "  .option(\"header\", first_row_is_header) \\\n",
    "  .option(\"sep\", delimiter) \\\n",
    "  .load(file_location)\n",
    "\n",
    "df = df.drop('longitude', 'latitude')\n",
    "display(df)"
   ]
  },
  {
   "cell_type": "code",
   "execution_count": 4,
   "metadata": {},
   "outputs": [
    {
     "data": {
      "text/html": [
       "<style scoped>\n",
       "  .ansiout {\n",
       "    display: block;\n",
       "    unicode-bidi: embed;\n",
       "    white-space: pre-wrap;\n",
       "    word-wrap: break-word;\n",
       "    word-break: break-all;\n",
       "    font-family: \"Source Code Pro\", \"Menlo\", monospace;;\n",
       "    font-size: 13px;\n",
       "    color: #555;\n",
       "    margin-left: 4px;\n",
       "    line-height: 19px;\n",
       "  }\n",
       "</style>\n",
       "<div class=\"ansiout\">root\n",
       "-- housing_median_age: double (nullable = true)\n",
       "-- total_rooms: double (nullable = true)\n",
       "-- total_bedrooms: double (nullable = true)\n",
       "-- population: double (nullable = true)\n",
       "-- households: double (nullable = true)\n",
       "-- median_income: double (nullable = true)\n",
       "-- median_house_value: double (nullable = true)\n",
       "\n",
       "</div>"
      ]
     },
     "metadata": {},
     "output_type": "display_data"
    }
   ],
   "source": [
    "df.printSchema()"
   ]
  },
  {
   "cell_type": "markdown",
   "metadata": {},
   "source": [
    "## Linear Regression"
   ]
  },
  {
   "cell_type": "code",
   "execution_count": 6,
   "metadata": {},
   "outputs": [
    {
     "data": {
      "text/html": [
       "<style scoped>\n",
       "  .ansiout {\n",
       "    display: block;\n",
       "    unicode-bidi: embed;\n",
       "    white-space: pre-wrap;\n",
       "    word-wrap: break-word;\n",
       "    word-break: break-all;\n",
       "    font-family: \"Source Code Pro\", \"Menlo\", monospace;;\n",
       "    font-size: 13px;\n",
       "    color: #555;\n",
       "    margin-left: 4px;\n",
       "    line-height: 19px;\n",
       "  }\n",
       "</style>\n",
       "<div class=\"ansiout\">+------------------+-----+\n",
       "housing_median_age|count|\n",
       "+------------------+-----+\n",
       "              52.0| 1052|\n",
       "              51.0|   32|\n",
       "              50.0|  112|\n",
       "              49.0|  111|\n",
       "              48.0|  135|\n",
       "              47.0|  175|\n",
       "              46.0|  196|\n",
       "              45.0|  235|\n",
       "              44.0|  296|\n",
       "              43.0|  286|\n",
       "              42.0|  308|\n",
       "              41.0|  232|\n",
       "              40.0|  249|\n",
       "              39.0|  302|\n",
       "              38.0|  318|\n",
       "              37.0|  437|\n",
       "              36.0|  715|\n",
       "              35.0|  692|\n",
       "              34.0|  567|\n",
       "              33.0|  513|\n",
       "+------------------+-----+\n",
       "only showing top 20 rows\n",
       "\n",
       "</div>"
      ]
     },
     "metadata": {},
     "output_type": "display_data"
    }
   ],
   "source": [
    "# Reference: https://www.datacamp.com/community/tutorials/apache-spark-tutorial-machine-learning \n",
    "\n",
    "from pyspark.sql.functions import *\n",
    "\n",
    "df.groupBy(\"housing_median_age\").count().sort(\"housing_median_age\",ascending=False).show()"
   ]
  },
  {
   "cell_type": "code",
   "execution_count": 7,
   "metadata": {},
   "outputs": [
    {
     "data": {
      "text/html": [
       "<style scoped>\n",
       "  .ansiout {\n",
       "    display: block;\n",
       "    unicode-bidi: embed;\n",
       "    white-space: pre-wrap;\n",
       "    word-wrap: break-word;\n",
       "    word-break: break-all;\n",
       "    font-family: \"Source Code Pro\", \"Menlo\", monospace;;\n",
       "    font-size: 13px;\n",
       "    color: #555;\n",
       "    margin-left: 4px;\n",
       "    line-height: 19px;\n",
       "  }\n",
       "</style>\n",
       "<div class=\"ansiout\">+-------+------------------+-----------------+-----------------+------------------+-----------------+------------------+------------------+\n",
       "summary|housing_median_age|      total_rooms|   total_bedrooms|        population|       households|     median_income|median_house_value|\n",
       "+-------+------------------+-----------------+-----------------+------------------+-----------------+------------------+------------------+\n",
       "  count|             17000|            17000|            17000|             17000|            17000|             17000|             17000|\n",
       "   mean| 28.58935294117647|2643.664411764706|539.4108235294118|1429.5739411764705|501.2219411764706| 3.883578100000021|207300.91235294117|\n",
       " stddev|12.586936981660406|2179.947071452777|421.4994515798648| 1147.852959159527|384.5208408559016|1.9081565183791036|115983.76438720895|\n",
       "    min|               1.0|              2.0|              1.0|               3.0|              1.0|            0.4999|           14999.0|\n",
       "    max|              52.0|          37937.0|           6445.0|           35682.0|           6082.0|           15.0001|          500001.0|\n",
       "+-------+------------------+-----------------+-----------------+------------------+-----------------+------------------+------------------+\n",
       "\n",
       "</div>"
      ]
     },
     "metadata": {},
     "output_type": "display_data"
    }
   ],
   "source": [
    "df.describe().show()"
   ]
  },
  {
   "cell_type": "code",
   "execution_count": 8,
   "metadata": {},
   "outputs": [
    {
     "data": {
      "text/html": [
       "<style scoped>\n",
       "  .ansiout {\n",
       "    display: block;\n",
       "    unicode-bidi: embed;\n",
       "    white-space: pre-wrap;\n",
       "    word-wrap: break-word;\n",
       "    word-break: break-all;\n",
       "    font-family: \"Source Code Pro\", \"Menlo\", monospace;;\n",
       "    font-size: 13px;\n",
       "    color: #555;\n",
       "    margin-left: 4px;\n",
       "    line-height: 19px;\n",
       "  }\n",
       "</style>\n",
       "<div class=\"ansiout\"><span class=\"ansired\">Out[</span><span class=\"ansired\">35</span><span class=\"ansired\">]: </span>\n",
       "[Row(housing_median_age=15.0, total_rooms=5612.0, total_bedrooms=1283.0, population=1015.0, households=472.0, median_income=1.4936, median_house_value=0.669),\n",
       " Row(housing_median_age=19.0, total_rooms=7650.0, total_bedrooms=1901.0, population=1129.0, households=463.0, median_income=1.82, median_house_value=0.801)]\n",
       "</div>"
      ]
     },
     "metadata": {},
     "output_type": "display_data"
    }
   ],
   "source": [
    "df = df.withColumn(\"median_house_value\", col(\"median_house_value\")/100000)\n",
    "df.take(2)"
   ]
  },
  {
   "cell_type": "code",
   "execution_count": 9,
   "metadata": {},
   "outputs": [
    {
     "data": {
      "text/html": [
       "<style scoped>\n",
       "  .ansiout {\n",
       "    display: block;\n",
       "    unicode-bidi: embed;\n",
       "    white-space: pre-wrap;\n",
       "    word-wrap: break-word;\n",
       "    word-break: break-all;\n",
       "    font-family: \"Source Code Pro\", \"Menlo\", monospace;;\n",
       "    font-size: 13px;\n",
       "    color: #555;\n",
       "    margin-left: 4px;\n",
       "    line-height: 19px;\n",
       "  }\n",
       "</style>\n",
       "<div class=\"ansiout\"></div>"
      ]
     },
     "metadata": {},
     "output_type": "display_data"
    }
   ],
   "source": [
    "df = df.select(\"median_house_value\",\n",
    "               \"total_bedrooms\",\n",
    "               \"population\",\n",
    "               \"households\", \n",
    "               \"median_income\",\n",
    "               \"housing_median_age\", \n",
    "               \"total_rooms\")"
   ]
  },
  {
   "cell_type": "code",
   "execution_count": 10,
   "metadata": {},
   "outputs": [
    {
     "data": {
      "text/html": [
       "<style scoped>\n",
       "  .ansiout {\n",
       "    display: block;\n",
       "    unicode-bidi: embed;\n",
       "    white-space: pre-wrap;\n",
       "    word-wrap: break-word;\n",
       "    word-break: break-all;\n",
       "    font-family: \"Source Code Pro\", \"Menlo\", monospace;;\n",
       "    font-size: 13px;\n",
       "    color: #555;\n",
       "    margin-left: 4px;\n",
       "    line-height: 19px;\n",
       "  }\n",
       "</style>\n",
       "<div class=\"ansiout\"></div>"
      ]
     },
     "metadata": {},
     "output_type": "display_data"
    }
   ],
   "source": [
    "from pyspark.ml.linalg import DenseVector\n",
    "\n",
    "input_data = df.rdd.map(lambda x: (x[0], DenseVector(x[1:])))\n",
    "\n",
    "df = spark.createDataFrame(input_data, [\"label\", \"features\"])"
   ]
  },
  {
   "cell_type": "code",
   "execution_count": 11,
   "metadata": {},
   "outputs": [
    {
     "data": {
      "text/html": [
       "<style scoped>\n",
       "  .ansiout {\n",
       "    display: block;\n",
       "    unicode-bidi: embed;\n",
       "    white-space: pre-wrap;\n",
       "    word-wrap: break-word;\n",
       "    word-break: break-all;\n",
       "    font-family: \"Source Code Pro\", \"Menlo\", monospace;;\n",
       "    font-size: 13px;\n",
       "    color: #555;\n",
       "    margin-left: 4px;\n",
       "    line-height: 19px;\n",
       "  }\n",
       "</style>\n",
       "<div class=\"ansiout\"><span class=\"ansired\">Out[</span><span class=\"ansired\">38</span><span class=\"ansired\">]: </span>\n",
       "[Row(label=0.669, features=DenseVector([1283.0, 1015.0, 472.0, 1.4936, 15.0, 5612.0]), features_scaled=DenseVector([3.0439, 0.8843, 1.2275, 0.7827, 1.1917, 2.5744])),\n",
       " Row(label=0.801, features=DenseVector([1901.0, 1129.0, 463.0, 1.82, 19.0, 7650.0]), features_scaled=DenseVector([4.5101, 0.9836, 1.2041, 0.9538, 1.5095, 3.5093]))]\n",
       "</div>"
      ]
     },
     "metadata": {},
     "output_type": "display_data"
    }
   ],
   "source": [
    "from pyspark.ml.feature import StandardScaler\n",
    "\n",
    "standardScaler = StandardScaler(inputCol=\"features\", outputCol=\"features_scaled\")\n",
    "\n",
    "scaler = standardScaler.fit(df)\n",
    "\n",
    "scaled_df = scaler.transform(df)\n",
    "\n",
    "scaled_df.take(2)"
   ]
  },
  {
   "cell_type": "code",
   "execution_count": 12,
   "metadata": {},
   "outputs": [
    {
     "data": {
      "text/html": [
       "<style scoped>\n",
       "  .ansiout {\n",
       "    display: block;\n",
       "    unicode-bidi: embed;\n",
       "    white-space: pre-wrap;\n",
       "    word-wrap: break-word;\n",
       "    word-break: break-all;\n",
       "    font-family: \"Source Code Pro\", \"Menlo\", monospace;;\n",
       "    font-size: 13px;\n",
       "    color: #555;\n",
       "    margin-left: 4px;\n",
       "    line-height: 19px;\n",
       "  }\n",
       "</style>\n",
       "<div class=\"ansiout\">Number of training set rows: 13587\n",
       "Number of test set rows: 3413\n",
       "</div>"
      ]
     },
     "metadata": {},
     "output_type": "display_data"
    }
   ],
   "source": [
    "training_data, test_data = scaled_df.randomSplit([.8,.2],seed=1234)\n",
    "\n",
    "print(\"Number of training set rows: %d\" % training_data.count())\n",
    "print(\"Number of test set rows: %d\" % test_data.count())"
   ]
  },
  {
   "cell_type": "code",
   "execution_count": 13,
   "metadata": {},
   "outputs": [
    {
     "data": {
      "text/html": [
       "<style scoped>\n",
       "  .ansiout {\n",
       "    display: block;\n",
       "    unicode-bidi: embed;\n",
       "    white-space: pre-wrap;\n",
       "    word-wrap: break-word;\n",
       "    word-break: break-all;\n",
       "    font-family: \"Source Code Pro\", \"Menlo\", monospace;;\n",
       "    font-size: 13px;\n",
       "    color: #555;\n",
       "    margin-left: 4px;\n",
       "    line-height: 19px;\n",
       "  }\n",
       "</style>\n",
       "<div class=\"ansiout\"></div>"
      ]
     },
     "metadata": {},
     "output_type": "display_data"
    }
   ],
   "source": [
    "# Build the model for Linear Regression\n",
    "from pyspark.ml.regression import LinearRegression\n",
    "lr = LinearRegression(labelCol=\"label\", maxIter=100, regParam=0.3, elasticNetParam=0.01)\n",
    "linearModel = lr.fit(training_data)"
   ]
  },
  {
   "cell_type": "code",
   "execution_count": 14,
   "metadata": {},
   "outputs": [
    {
     "data": {
      "text/html": [
       "<style scoped>\n",
       "  .ansiout {\n",
       "    display: block;\n",
       "    unicode-bidi: embed;\n",
       "    white-space: pre-wrap;\n",
       "    word-wrap: break-word;\n",
       "    word-break: break-all;\n",
       "    font-family: \"Source Code Pro\", \"Menlo\", monospace;;\n",
       "    font-size: 13px;\n",
       "    color: #555;\n",
       "    margin-left: 4px;\n",
       "    line-height: 19px;\n",
       "  }\n",
       "</style>\n",
       "<div class=\"ansiout\"><span class=\"ansired\">Out[</span><span class=\"ansired\">14</span><span class=\"ansired\">]: </span>\n",
       "[(0.9279637781518708, 0.14999),\n",
       " (1.0386665470562313, 0.14999),\n",
       " (1.2576974777746508, 0.14999),\n",
       " (1.8062087421994526, 0.3),\n",
       " (1.5202261316500174, 0.375)]\n",
       "</div>"
      ]
     },
     "metadata": {},
     "output_type": "display_data"
    }
   ],
   "source": [
    "predicted = linearModel.transform(test_data)\n",
    "predictions = predicted.select(\"prediction\").rdd.map(lambda x: x[0])\n",
    "labels = predicted.select(\"label\").rdd.map(lambda x: x[0])\n",
    "predictionAndLabel = predictions.zip(labels).collect()\n",
    "predictionAndLabel[:5]"
   ]
  },
  {
   "cell_type": "code",
   "execution_count": 15,
   "metadata": {},
   "outputs": [
    {
     "data": {
      "text/html": [
       "<style scoped>\n",
       "  .ansiout {\n",
       "    display: block;\n",
       "    unicode-bidi: embed;\n",
       "    white-space: pre-wrap;\n",
       "    word-wrap: break-word;\n",
       "    word-break: break-all;\n",
       "    font-family: \"Source Code Pro\", \"Menlo\", monospace;;\n",
       "    font-size: 13px;\n",
       "    color: #555;\n",
       "    margin-left: 4px;\n",
       "    line-height: 19px;\n",
       "  }\n",
       "</style>\n",
       "<div class=\"ansiout\"><span class=\"ansired\">Out[</span><span class=\"ansired\">15</span><span class=\"ansired\">]: </span>0.22401511805636481\n",
       "</div>"
      ]
     },
     "metadata": {},
     "output_type": "display_data"
    }
   ],
   "source": [
    "linearModel.coefficients\n",
    "\n",
    "linearModel.intercept"
   ]
  },
  {
   "cell_type": "code",
   "execution_count": 16,
   "metadata": {},
   "outputs": [
    {
     "data": {
      "text/html": [
       "<style scoped>\n",
       "  .ansiout {\n",
       "    display: block;\n",
       "    unicode-bidi: embed;\n",
       "    white-space: pre-wrap;\n",
       "    word-wrap: break-word;\n",
       "    word-break: break-all;\n",
       "    font-family: \"Source Code Pro\", \"Menlo\", monospace;;\n",
       "    font-size: 13px;\n",
       "    color: #555;\n",
       "    margin-left: 4px;\n",
       "    line-height: 19px;\n",
       "  }\n",
       "</style>\n",
       "<div class=\"ansiout\">Root Mean Squared Error is 0.802702\n",
       "Root Squared Error is 0.520220\n",
       "</div>"
      ]
     },
     "metadata": {},
     "output_type": "display_data"
    }
   ],
   "source": [
    "# Get the RMSE\n",
    "print(\"Root Mean Squared Error is %f\" % linearModel.summary.rootMeanSquaredError)\n",
    "\n",
    "# Get the R2\n",
    "print(\"Root Squared Error is %f\" % linearModel.summary.r2)"
   ]
  },
  {
   "cell_type": "code",
   "execution_count": 17,
   "metadata": {},
   "outputs": [
    {
     "data": {
      "text/html": [
       "<style scoped>\n",
       "  .ansiout {\n",
       "    display: block;\n",
       "    unicode-bidi: embed;\n",
       "    white-space: pre-wrap;\n",
       "    word-wrap: break-word;\n",
       "    word-break: break-all;\n",
       "    font-family: \"Source Code Pro\", \"Menlo\", monospace;;\n",
       "    font-size: 13px;\n",
       "    color: #555;\n",
       "    margin-left: 4px;\n",
       "    line-height: 19px;\n",
       "  }\n",
       "</style>\n",
       "<div class=\"ansiout\"></div>"
      ]
     },
     "metadata": {},
     "output_type": "display_data"
    }
   ],
   "source": [
    "RANDOM_SEED = 13579\n",
    "TRAINING_DATA_RATIO = 0.7\n",
    "\n",
    "RF_NUM_TREES = 3\n",
    "RF_MAX_DEPTH = 4\n",
    "RF_MAX_BINS = 32"
   ]
  },
  {
   "cell_type": "code",
   "execution_count": 18,
   "metadata": {},
   "outputs": [
    {
     "data": {
      "text/html": [
       "<style scoped>\n",
       "  .ansiout {\n",
       "    display: block;\n",
       "    unicode-bidi: embed;\n",
       "    white-space: pre-wrap;\n",
       "    word-wrap: break-word;\n",
       "    word-break: break-all;\n",
       "    font-family: \"Source Code Pro\", \"Menlo\", monospace;;\n",
       "    font-size: 13px;\n",
       "    color: #555;\n",
       "    margin-left: 4px;\n",
       "    line-height: 19px;\n",
       "  }\n",
       "</style>\n",
       "<div class=\"ansiout\">Number of training set rows: 11856\n",
       "Number of test set rows: 5144\n",
       "</div>"
      ]
     },
     "metadata": {},
     "output_type": "display_data"
    }
   ],
   "source": [
    "## Data Preprocessing and Test Train Split\n",
    "from pyspark.mllib.linalg import Vectors\n",
    "from pyspark.mllib.regression import LabeledPoint\n",
    "\n",
    "transformed_df = df.rdd.map(lambda row: LabeledPoint(row[-1], Vectors.dense(row[0:-1])))\n",
    "\n",
    "splits = [TRAINING_DATA_RATIO, 1.0 - TRAINING_DATA_RATIO]\n",
    "training_data1, test_data1 = transformed_df.randomSplit(splits, RANDOM_SEED)\n",
    "\n",
    "print(\"Number of training set rows: %d\" % training_data1.count())\n",
    "print(\"Number of test set rows: %d\" % test_data1.count())"
   ]
  },
  {
   "cell_type": "code",
   "execution_count": 19,
   "metadata": {},
   "outputs": [
    {
     "data": {
      "text/html": [
       "<style scoped>\n",
       "  .ansiout {\n",
       "    display: block;\n",
       "    unicode-bidi: embed;\n",
       "    white-space: pre-wrap;\n",
       "    word-wrap: break-word;\n",
       "    word-break: break-all;\n",
       "    font-family: \"Source Code Pro\", \"Menlo\", monospace;;\n",
       "    font-size: 13px;\n",
       "    color: #555;\n",
       "    margin-left: 4px;\n",
       "    line-height: 19px;\n",
       "  }\n",
       "</style>\n",
       "<div class=\"ansiout\"></div>"
      ]
     },
     "metadata": {},
     "output_type": "display_data"
    }
   ],
   "source": [
    "# Reference : https://spark.apache.org/docs/1.6.1/mllib-linear-methods.html#regression\n",
    "\n",
    "# Build the model for Linear Regression with Stochastic Gradient Descent\n",
    "from pyspark.mllib.regression import LinearRegressionWithSGD\n",
    "model_lr = LinearRegressionWithSGD.train(training_data1, iterations=100, step=0.00000001)"
   ]
  },
  {
   "cell_type": "code",
   "execution_count": 20,
   "metadata": {},
   "outputs": [
    {
     "data": {
      "text/html": [
       "<style scoped>\n",
       "  .ansiout {\n",
       "    display: block;\n",
       "    unicode-bidi: embed;\n",
       "    white-space: pre-wrap;\n",
       "    word-wrap: break-word;\n",
       "    word-break: break-all;\n",
       "    font-family: \"Source Code Pro\", \"Menlo\", monospace;;\n",
       "    font-size: 13px;\n",
       "    color: #555;\n",
       "    margin-left: 4px;\n",
       "    line-height: 19px;\n",
       "  }\n",
       "</style>\n",
       "<div class=\"ansiout\">Mean Squared Error = 27401687468.7\n",
       "</div>"
      ]
     },
     "metadata": {},
     "output_type": "display_data"
    }
   ],
   "source": [
    "## Calculating the mean squared error value for the model\n",
    "\n",
    "predictions_lr = model_lr.predict(test_data1.map(lambda x: x.features))\n",
    "labels_and_predictions_lr = test_data1.map(lambda x: x.label).zip(predictions_lr)\n",
    "MSE = labels_and_predictions_lr \\\n",
    "    .map(lambda vp: (vp[0] - vp[1])**2) \\\n",
    "    .reduce(lambda x, y: x + y) / labels_and_predictions_lr.count()\n",
    "print(\"Mean Squared Error = \" + str(MSE))\n"
   ]
  },
  {
   "cell_type": "markdown",
   "metadata": {},
   "source": [
    "## RandomForest Regression"
   ]
  },
  {
   "cell_type": "code",
   "execution_count": 22,
   "metadata": {},
   "outputs": [
    {
     "data": {
      "text/html": [
       "<style scoped>\n",
       "  .ansiout {\n",
       "    display: block;\n",
       "    unicode-bidi: embed;\n",
       "    white-space: pre-wrap;\n",
       "    word-wrap: break-word;\n",
       "    word-break: break-all;\n",
       "    font-family: \"Source Code Pro\", \"Menlo\", monospace;;\n",
       "    font-size: 13px;\n",
       "    color: #555;\n",
       "    margin-left: 4px;\n",
       "    line-height: 19px;\n",
       "  }\n",
       "</style>\n",
       "<div class=\"ansiout\"></div>"
      ]
     },
     "metadata": {},
     "output_type": "display_data"
    }
   ],
   "source": [
    "# Reference : https://spark.apache.org/docs/latest/mllib-ensembles.html#regression\n",
    "\n",
    "# Build the model for RandomForest Regression  with \n",
    "from pyspark.mllib.tree import RandomForest, RandomForestModel\n",
    "\n",
    "model_rf = RandomForest.trainRegressor(training_data1, categoricalFeaturesInfo={},\n",
    "                                    numTrees=3, featureSubsetStrategy=\"auto\",\n",
    "                                    impurity='variance', maxDepth=RF_MAX_DEPTH, maxBins=RF_MAX_BINS)"
   ]
  },
  {
   "cell_type": "code",
   "execution_count": 23,
   "metadata": {},
   "outputs": [
    {
     "data": {
      "text/html": [
       "<style scoped>\n",
       "  .ansiout {\n",
       "    display: block;\n",
       "    unicode-bidi: embed;\n",
       "    white-space: pre-wrap;\n",
       "    word-wrap: break-word;\n",
       "    word-break: break-all;\n",
       "    font-family: \"Source Code Pro\", \"Menlo\", monospace;;\n",
       "    font-size: 13px;\n",
       "    color: #555;\n",
       "    margin-left: 4px;\n",
       "    line-height: 19px;\n",
       "  }\n",
       "</style>\n",
       "<div class=\"ansiout\">Test Mean Squared Error = 73.67327720203927\n",
       "</div>"
      ]
     },
     "metadata": {},
     "output_type": "display_data"
    }
   ],
   "source": [
    "## Calculating the mean squared error value for the model\n",
    "\n",
    "predictions_rf = model_rf.predict(test_data1.map(lambda x: x.features))\n",
    "labels_and_predictions_rf = test_data1.map(lambda x: x.label).zip(predictions_rf)\n",
    "testMSE = labels_and_predictions_rf.map(lambda lp: (lp[0] - lp[1]) * (lp[0] - lp[1])).sum() /\\\n",
    "    float(test_data1.count())\n",
    "\n",
    "print('Test Mean Squared Error = ' + str(testMSE/100000000))"
   ]
  }
 ],
 "metadata": {
  "kernelspec": {
   "display_name": "Python 3",
   "language": "python",
   "name": "python3"
  },
  "language_info": {
   "codemirror_mode": {
    "name": "ipython",
    "version": 3
   },
   "file_extension": ".py",
   "mimetype": "text/x-python",
   "name": "python",
   "nbconvert_exporter": "python",
   "pygments_lexer": "ipython3",
   "version": "3.7.3"
  },
  "name": "Regression_Problem_Assignment2",
  "notebookId": 1633051895899326
 },
 "nbformat": 4,
 "nbformat_minor": 1
}
